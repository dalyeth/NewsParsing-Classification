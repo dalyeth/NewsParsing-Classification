{
  "cells": [
    {
      "cell_type": "code",
      "execution_count": 1,
      "metadata": {
        "id": "4OpzfTAm9tKW"
      },
      "outputs": [],
      "source": [
        "%%capture\n",
        "!pip install selenium"
      ]
    },
    {
      "cell_type": "code",
      "execution_count": 2,
      "metadata": {
        "id": "sLvaFNoGXPz-"
      },
      "outputs": [],
      "source": [
        "import re\n",
        "import time\n",
        "import datetime\n",
        "import pandas as pd\n",
        "import warnings\n",
        "from tqdm import tqdm\n",
        "from bs4 import BeautifulSoup\n",
        "from selenium import webdriver\n",
        "from dataclasses import dataclass\n",
        "\n",
        "warnings.filterwarnings(\"ignore\", category=FutureWarning)"
      ]
    },
    {
      "cell_type": "code",
      "source": [
        "from google.colab import drive\n",
        "drive.mount('/content/drive')"
      ],
      "metadata": {
        "id": "pkrCPwa_oIm0",
        "outputId": "34a52642-9222-4cd7-d768-23aa4dc804cf",
        "colab": {
          "base_uri": "https://localhost:8080/"
        }
      },
      "execution_count": 3,
      "outputs": [
        {
          "output_type": "stream",
          "name": "stdout",
          "text": [
            "Mounted at /content/drive\n"
          ]
        }
      ]
    },
    {
      "cell_type": "code",
      "execution_count": 16,
      "metadata": {
        "id": "Et9aXr_AXPz_"
      },
      "outputs": [],
      "source": [
        "SLEEP = 2\n",
        "DEPTH = 200\n",
        "BASE_URL = \"https://iz.ru/tag/\"\n",
        "TOPICS = ['zdorove']"
      ]
    },
    {
      "cell_type": "code",
      "execution_count": 5,
      "metadata": {
        "id": "12FLG9pcXPz_"
      },
      "outputs": [],
      "source": [
        "@dataclass\n",
        "class Article:\n",
        "    id: str = None\n",
        "    url: str = None\n",
        "    title: str = None\n",
        "    #subtitle: str = None\n",
        "    content: str = None\n",
        "    datetime: str = None"
      ]
    },
    {
      "cell_type": "code",
      "execution_count": 6,
      "metadata": {
        "id": "WkccHzEPXPz_"
      },
      "outputs": [],
      "source": [
        "# set webdriver params\n",
        "chrome_options = webdriver.ChromeOptions()\n",
        "chrome_options.add_argument(\"--blink-settings=imagesEnabled=false\")\n",
        "chrome_options.add_argument(\"headless\")\n",
        "chrome_options.add_argument(\"no-sandbox\")\n",
        "chrome_options.add_argument(\"disable-dev-shm-usage\")\n",
        "driver = webdriver.Chrome(options=chrome_options)"
      ]
    },
    {
      "cell_type": "code",
      "execution_count": 17,
      "metadata": {
        "id": "97RgMNehXPz_"
      },
      "outputs": [],
      "source": [
        "def get_pages():\n",
        "\n",
        "    \"\"\"Load and scroll pages\"\"\"\n",
        "\n",
        "    items, topics_order = [], []\n",
        "\n",
        "    for topic in tqdm(TOPICS):\n",
        "        try:\n",
        "            old_size = len(items)\n",
        "            URL = BASE_URL + topic\n",
        "            driver.get(URL)\n",
        "            #print(driver.get(URL))\n",
        "            time.sleep(SLEEP)\n",
        "            scroll_pause_time = 2\n",
        "\n",
        "            # scroll page to automatically load more articles\n",
        "            for i in tqdm(range(DEPTH), leave=False):\n",
        "                try:\n",
        "                    driver.execute_script(\n",
        "                    \"document.getElementsByClassName('btn-show-more')[0].click()\"\n",
        "                      )\n",
        "                    time.sleep(2)\n",
        "                    driver.execute_script(\n",
        "                        f\"window.scrollTo(0, document.body.scrollHeight - 100)\"\n",
        "                    )\n",
        "                    time.sleep(2)\n",
        "                except:\n",
        "\n",
        "                    pass\n",
        "\n",
        "            # find all pages\n",
        "            html = driver.page_source\n",
        "            soup = BeautifulSoup(html, \"html.parser\")\n",
        "            scope = soup.find(\n",
        "                \"div\", {\"itemscope\": \"itemscope\", \"itemtype\": \"https://schema.org/ItemList\"}\n",
        "            )\n",
        "\n",
        "\n",
        "            items += scope.find_all(\"div\", { 'class':'tag-materials-item__box', 'itemtype':'https://schema.org/Article'})\n",
        "\n",
        "\n",
        "        except:\n",
        "            pass\n",
        "\n",
        "    return items"
      ]
    },
    {
      "cell_type": "code",
      "source": [
        "pages = get_pages()"
      ],
      "metadata": {
        "colab": {
          "base_uri": "https://localhost:8080/"
        },
        "id": "d8F9NsU59C51",
        "outputId": "cc764c24-4415-4e9a-de0c-6c508ac07dc6"
      },
      "execution_count": 18,
      "outputs": [
        {
          "output_type": "stream",
          "name": "stderr",
          "text": [
            "  0%|          | 0/1 [00:00<?, ?it/s]\n",
            "  0%|          | 0/200 [00:00<?, ?it/s]\u001b[A\n",
            "  0%|          | 1/200 [00:04<13:30,  4.07s/it]\u001b[A\n",
            "  1%|          | 2/200 [00:08<13:21,  4.05s/it]\u001b[A\n",
            "  2%|▏         | 3/200 [00:12<13:16,  4.04s/it]\u001b[A\n",
            "  2%|▏         | 4/200 [00:16<13:13,  4.05s/it]\u001b[A\n",
            "  2%|▎         | 5/200 [00:20<13:09,  4.05s/it]\u001b[A\n",
            "  3%|▎         | 6/200 [00:24<13:06,  4.05s/it]\u001b[A\n",
            "  4%|▎         | 7/200 [00:28<13:02,  4.06s/it]\u001b[A\n",
            "  4%|▍         | 8/200 [00:32<12:57,  4.05s/it]\u001b[A\n",
            "  4%|▍         | 9/200 [00:36<12:52,  4.04s/it]\u001b[A\n",
            "  5%|▌         | 10/200 [00:40<12:47,  4.04s/it]\u001b[A\n",
            "  6%|▌         | 11/200 [00:44<12:44,  4.05s/it]\u001b[A\n",
            "  6%|▌         | 12/200 [00:48<12:44,  4.07s/it]\u001b[A\n",
            "  6%|▋         | 13/200 [00:52<12:39,  4.06s/it]\u001b[A\n",
            "  7%|▋         | 14/200 [00:56<12:35,  4.06s/it]\u001b[A\n",
            "  8%|▊         | 15/200 [01:00<12:30,  4.06s/it]\u001b[A\n",
            "  8%|▊         | 16/200 [01:04<12:25,  4.05s/it]\u001b[A\n",
            "  8%|▊         | 17/200 [01:08<12:21,  4.05s/it]\u001b[A\n",
            "  9%|▉         | 18/200 [01:13<12:25,  4.09s/it]\u001b[A\n",
            " 10%|▉         | 19/200 [01:17<12:19,  4.09s/it]\u001b[A\n",
            " 10%|█         | 20/200 [01:21<12:14,  4.08s/it]\u001b[A\n",
            " 10%|█         | 21/200 [01:25<12:08,  4.07s/it]\u001b[A\n",
            " 11%|█         | 22/200 [01:29<12:03,  4.07s/it]\u001b[A\n",
            " 12%|█▏        | 23/200 [01:33<12:12,  4.14s/it]\u001b[A\n",
            " 12%|█▏        | 24/200 [01:37<12:02,  4.11s/it]\u001b[A\n",
            " 12%|█▎        | 25/200 [01:41<12:08,  4.16s/it]\u001b[A\n",
            " 13%|█▎        | 26/200 [01:46<12:19,  4.25s/it]\u001b[A\n",
            " 14%|█▎        | 27/200 [01:51<12:38,  4.38s/it]\u001b[A\n",
            " 14%|█▍        | 28/200 [01:55<12:47,  4.46s/it]\u001b[A\n",
            " 14%|█▍        | 29/200 [02:00<12:39,  4.44s/it]\u001b[A\n",
            " 15%|█▌        | 30/200 [02:04<12:16,  4.33s/it]\u001b[A\n",
            " 16%|█▌        | 31/200 [02:08<12:04,  4.29s/it]\u001b[A\n",
            " 16%|█▌        | 32/200 [02:12<11:47,  4.21s/it]\u001b[A\n",
            " 16%|█▋        | 33/200 [02:17<12:01,  4.32s/it]\u001b[A\n",
            " 17%|█▋        | 34/200 [02:21<11:43,  4.24s/it]\u001b[A\n",
            " 18%|█▊        | 35/200 [02:25<12:05,  4.40s/it]\u001b[A\n",
            " 18%|█▊        | 36/200 [02:29<11:45,  4.30s/it]\u001b[A\n",
            " 18%|█▊        | 37/200 [02:33<11:29,  4.23s/it]\u001b[A\n",
            " 19%|█▉        | 38/200 [02:38<11:27,  4.25s/it]\u001b[A\n",
            " 20%|█▉        | 39/200 [02:42<11:39,  4.34s/it]\u001b[A\n",
            " 20%|██        | 40/200 [02:46<11:20,  4.26s/it]\u001b[A\n",
            " 20%|██        | 41/200 [02:50<11:07,  4.20s/it]\u001b[A\n",
            " 21%|██        | 42/200 [02:54<10:56,  4.16s/it]\u001b[A\n",
            " 22%|██▏       | 43/200 [02:59<11:00,  4.21s/it]\u001b[A\n",
            " 22%|██▏       | 44/200 [03:03<11:10,  4.30s/it]\u001b[A\n",
            " 22%|██▎       | 45/200 [03:08<11:04,  4.29s/it]\u001b[A\n",
            " 23%|██▎       | 46/200 [03:12<10:48,  4.21s/it]\u001b[A\n",
            " 24%|██▎       | 47/200 [03:16<11:01,  4.32s/it]\u001b[A\n",
            " 24%|██▍       | 48/200 [03:21<11:06,  4.39s/it]\u001b[A\n",
            " 24%|██▍       | 49/200 [03:26<11:28,  4.56s/it]\u001b[A\n",
            " 25%|██▌       | 50/200 [03:31<11:42,  4.69s/it]\u001b[A\n",
            " 26%|██▌       | 51/200 [03:36<11:59,  4.83s/it]\u001b[A\n",
            " 26%|██▌       | 52/200 [03:41<11:51,  4.81s/it]\u001b[A\n",
            " 26%|██▋       | 53/200 [03:45<11:12,  4.57s/it]\u001b[A\n",
            " 27%|██▋       | 54/200 [03:49<10:45,  4.42s/it]\u001b[A\n",
            " 28%|██▊       | 55/200 [03:53<10:52,  4.50s/it]\u001b[A\n",
            " 28%|██▊       | 56/200 [03:59<11:47,  4.91s/it]\u001b[A\n",
            " 28%|██▊       | 57/200 [04:05<12:19,  5.17s/it]\u001b[A\n",
            " 29%|██▉       | 58/200 [04:11<12:52,  5.44s/it]\u001b[A\n",
            " 30%|██▉       | 59/200 [04:16<12:32,  5.34s/it]\u001b[A\n",
            " 30%|███       | 60/200 [04:21<11:44,  5.03s/it]\u001b[A\n",
            " 30%|███       | 61/200 [04:26<11:38,  5.03s/it]\u001b[A\n",
            " 31%|███       | 62/200 [04:32<12:43,  5.53s/it]\u001b[A\n",
            " 32%|███▏      | 63/200 [04:39<13:30,  5.92s/it]\u001b[A\n",
            " 32%|███▏      | 64/200 [04:46<14:08,  6.24s/it]\u001b[A\n",
            " 32%|███▎      | 65/200 [04:52<13:51,  6.16s/it]\u001b[A\n",
            " 33%|███▎      | 66/200 [04:57<12:50,  5.75s/it]\u001b[A\n",
            " 34%|███▎      | 67/200 [05:03<13:20,  6.02s/it]\u001b[A\n",
            " 34%|███▍      | 68/200 [05:11<13:59,  6.36s/it]\u001b[A\n",
            " 34%|███▍      | 69/200 [05:18<14:26,  6.61s/it]\u001b[A\n",
            " 35%|███▌      | 70/200 [05:26<15:10,  7.00s/it]\u001b[A\n",
            " 36%|███▌      | 71/200 [05:31<13:50,  6.43s/it]\u001b[A\n",
            " 36%|███▌      | 72/200 [05:36<12:55,  6.06s/it]\u001b[A\n",
            " 36%|███▋      | 73/200 [05:44<14:15,  6.74s/it]\u001b[A\n",
            " 37%|███▋      | 74/200 [05:53<15:15,  7.27s/it]\u001b[A\n",
            " 38%|███▊      | 75/200 [06:01<15:58,  7.66s/it]\u001b[A\n",
            " 38%|███▊      | 76/200 [06:07<14:29,  7.01s/it]\u001b[A\n",
            " 38%|███▊      | 77/200 [06:13<13:54,  6.78s/it]\u001b[A\n",
            " 39%|███▉      | 78/200 [06:22<15:09,  7.45s/it]\u001b[A\n",
            " 40%|███▉      | 79/200 [06:32<16:22,  8.12s/it]\u001b[A\n",
            " 40%|████      | 80/200 [06:40<16:09,  8.08s/it]\u001b[A\n",
            " 40%|████      | 81/200 [06:46<14:49,  7.47s/it]\u001b[A\n",
            " 41%|████      | 82/200 [06:55<15:35,  7.92s/it]\u001b[A\n",
            " 42%|████▏     | 83/200 [07:05<16:46,  8.60s/it]\u001b[A\n",
            " 42%|████▏     | 84/200 [07:15<17:32,  9.07s/it]\u001b[A\n",
            " 42%|████▎     | 85/200 [07:22<15:55,  8.31s/it]\u001b[A\n",
            " 43%|████▎     | 86/200 [07:30<15:55,  8.38s/it]\u001b[A\n",
            " 44%|████▎     | 87/200 [07:42<17:23,  9.24s/it]\u001b[A\n",
            " 44%|████▍     | 88/200 [07:52<18:06,  9.70s/it]\u001b[A\n",
            " 44%|████▍     | 89/200 [07:59<16:27,  8.89s/it]\u001b[A\n",
            " 45%|████▌     | 90/200 [08:10<17:23,  9.49s/it]\u001b[A\n",
            " 46%|████▌     | 91/200 [08:22<18:41, 10.29s/it]\u001b[A\n",
            " 46%|████▌     | 92/200 [08:32<18:05, 10.05s/it]\u001b[A\n",
            " 46%|████▋     | 93/200 [08:40<16:55,  9.49s/it]\u001b[A\n",
            " 47%|████▋     | 94/200 [08:53<18:21, 10.39s/it]\u001b[A\n",
            " 48%|████▊     | 95/200 [09:05<19:30, 11.15s/it]\u001b[A\n",
            " 48%|████▊     | 96/200 [09:13<17:40, 10.20s/it]\u001b[A\n",
            " 48%|████▊     | 97/200 [09:27<19:01, 11.08s/it]\u001b[A\n",
            " 49%|████▉     | 98/200 [09:41<20:32, 12.09s/it]\u001b[A\n",
            " 50%|████▉     | 99/200 [09:49<18:28, 10.98s/it]\u001b[A\n",
            " 50%|█████     | 100/200 [10:03<19:21, 11.62s/it]\u001b[A\n",
            " 50%|█████     | 101/200 [10:17<20:43, 12.56s/it]\u001b[A\n",
            " 51%|█████     | 102/200 [10:28<19:24, 11.88s/it]\u001b[A\n",
            " 52%|█████▏    | 103/200 [10:43<20:52, 12.91s/it]\u001b[A\n",
            " 52%|█████▏    | 104/200 [10:57<21:25, 13.39s/it]\u001b[A\n",
            " 52%|█████▎    | 105/200 [11:09<20:16, 12.81s/it]\u001b[A\n",
            " 53%|█████▎    | 106/200 [11:25<21:30, 13.73s/it]\u001b[A\n",
            " 54%|█████▎    | 107/200 [11:38<20:53, 13.48s/it]\u001b[A\n",
            " 54%|█████▍    | 108/200 [11:51<20:37, 13.45s/it]\u001b[A\n",
            " 55%|█████▍    | 109/200 [12:08<21:47, 14.36s/it]\u001b[A\n",
            " 55%|█████▌    | 110/200 [12:18<19:41, 13.13s/it]\u001b[A\n",
            " 56%|█████▌    | 111/200 [12:35<21:19, 14.38s/it]\u001b[A\n",
            " 56%|█████▌    | 112/200 [12:49<21:02, 14.34s/it]\u001b[A\n",
            " 56%|█████▋    | 113/200 [13:03<20:23, 14.06s/it]\u001b[A\n",
            " 57%|█████▋    | 114/200 [13:21<22:00, 15.35s/it]\u001b[A\n",
            " 57%|█████▊    | 115/200 [13:33<20:06, 14.19s/it]\u001b[A\n",
            " 58%|█████▊    | 116/200 [13:51<21:35, 15.42s/it]\u001b[A\n",
            " 58%|█████▊    | 117/200 [14:06<21:10, 15.31s/it]\u001b[A\n",
            " 59%|█████▉    | 118/200 [14:23<21:28, 15.71s/it]\u001b[A\n",
            " 60%|█████▉    | 119/200 [14:40<21:44, 16.11s/it]\u001b[A\n",
            " 60%|██████    | 120/200 [14:55<21:04, 15.81s/it]\u001b[A\n",
            " 60%|██████    | 121/200 [15:15<22:24, 17.03s/it]\u001b[A\n",
            " 61%|██████    | 122/200 [15:31<21:45, 16.73s/it]\u001b[A\n",
            " 62%|██████▏   | 123/200 [15:51<22:47, 17.76s/it]\u001b[A\n",
            " 62%|██████▏   | 124/200 [16:06<21:33, 17.02s/it]\u001b[A\n",
            " 62%|██████▎   | 125/200 [16:27<22:43, 18.19s/it]\u001b[A\n",
            " 63%|██████▎   | 126/200 [16:43<21:44, 17.63s/it]\u001b[A\n",
            " 64%|██████▎   | 127/200 [17:05<22:55, 18.85s/it]\u001b[A\n",
            " 64%|██████▍   | 128/200 [17:23<22:14, 18.54s/it]\u001b[A\n",
            " 64%|██████▍   | 129/200 [17:43<22:27, 18.99s/it]\u001b[A\n",
            " 65%|██████▌   | 130/200 [18:02<22:11, 19.03s/it]\u001b[A\n",
            " 66%|██████▌   | 131/200 [18:22<22:04, 19.19s/it]\u001b[A\n",
            " 66%|██████▌   | 132/200 [18:44<22:46, 20.09s/it]\u001b[A\n",
            " 66%|██████▋   | 133/200 [19:02<21:46, 19.50s/it]\u001b[A\n",
            " 67%|██████▋   | 134/200 [19:27<23:17, 21.17s/it]\u001b[A\n",
            " 68%|██████▊   | 135/200 [19:45<21:58, 20.29s/it]\u001b[A\n",
            " 68%|██████▊   | 136/200 [20:09<22:48, 21.39s/it]\u001b[A\n",
            " 68%|██████▊   | 137/200 [20:31<22:43, 21.64s/it]\u001b[A\n",
            " 69%|██████▉   | 138/200 [20:52<22:01, 21.31s/it]\u001b[A\n",
            " 70%|██████▉   | 139/200 [21:19<23:32, 23.15s/it]\u001b[A\n",
            " 70%|███████   | 140/200 [21:42<22:56, 22.95s/it]\u001b[A\n",
            " 70%|███████   | 141/200 [22:04<22:25, 22.80s/it]\u001b[A\n",
            " 71%|███████   | 142/200 [22:33<23:50, 24.66s/it]\u001b[A\n",
            " 72%|███████▏  | 143/200 [22:57<23:03, 24.28s/it]\u001b[A\n",
            " 72%|███████▏  | 144/200 [23:19<22:14, 23.83s/it]\u001b[A\n",
            " 72%|███████▎  | 145/200 [23:47<22:46, 24.85s/it]\u001b[A\n",
            " 73%|███████▎  | 146/200 [24:12<22:34, 25.09s/it]\u001b[A\n",
            " 74%|███████▎  | 147/200 [24:36<21:50, 24.74s/it]\u001b[A\n",
            " 74%|███████▍  | 148/200 [25:03<22:03, 25.45s/it]\u001b[A\n",
            " 74%|███████▍  | 149/200 [25:33<22:35, 26.58s/it]\u001b[A\n",
            " 75%|███████▌  | 150/200 [25:58<21:47, 26.15s/it]\u001b[A\n",
            " 76%|███████▌  | 151/200 [26:24<21:19, 26.11s/it]\u001b[A\n",
            " 76%|███████▌  | 152/200 [26:53<21:46, 27.21s/it]\u001b[A\n",
            " 76%|███████▋  | 153/200 [27:25<22:25, 28.64s/it]\u001b[A\n",
            " 77%|███████▋  | 154/200 [27:55<22:14, 29.01s/it]\u001b[A\n",
            " 78%|███████▊  | 155/200 [28:25<21:52, 29.16s/it]\u001b[A\n",
            " 78%|███████▊  | 156/200 [28:55<21:38, 29.52s/it]\u001b[A\n",
            " 78%|███████▊  | 157/200 [29:25<21:16, 29.68s/it]\u001b[A\n",
            " 79%|███████▉  | 158/200 [29:56<21:05, 30.14s/it]\u001b[A\n",
            " 80%|███████▉  | 159/200 [30:29<21:03, 30.82s/it]\u001b[A\n",
            " 80%|████████  | 160/200 [31:00<20:32, 30.81s/it]\u001b[A\n",
            " 80%|████████  | 161/200 [31:30<19:57, 30.72s/it]\u001b[A\n",
            " 81%|████████  | 162/200 [32:00<19:20, 30.53s/it]\u001b[A\n",
            " 82%|████████▏ | 163/200 [32:30<18:35, 30.16s/it]\u001b[A\n",
            " 82%|████████▏ | 164/200 [33:21<21:52, 36.46s/it]\u001b[A\n",
            " 82%|████████▎ | 165/200 [33:53<20:31, 35.19s/it]\u001b[A\n",
            " 83%|████████▎ | 166/200 [34:28<19:52, 35.08s/it]\u001b[A\n",
            " 84%|████████▎ | 167/200 [35:01<19:02, 34.61s/it]\u001b[A\n",
            " 84%|████████▍ | 168/200 [35:34<18:06, 33.96s/it]\u001b[A\n",
            " 84%|████████▍ | 169/200 [36:08<17:34, 34.02s/it]\u001b[A\n",
            " 85%|████████▌ | 170/200 [36:42<17:05, 34.17s/it]\u001b[A\n",
            " 86%|████████▌ | 171/200 [37:17<16:38, 34.43s/it]\u001b[A\n",
            " 86%|████████▌ | 172/200 [37:53<16:12, 34.74s/it]\u001b[A\n",
            " 86%|████████▋ | 173/200 [38:30<15:56, 35.43s/it]\u001b[A\n",
            " 87%|████████▋ | 174/200 [39:06<15:28, 35.72s/it]\u001b[A\n",
            " 88%|████████▊ | 175/200 [39:43<14:58, 35.93s/it]\u001b[A\n",
            " 88%|████████▊ | 176/200 [40:19<14:28, 36.18s/it]\u001b[A\n",
            " 88%|████████▊ | 177/200 [40:58<14:09, 36.94s/it]\u001b[A\n",
            " 89%|████████▉ | 178/200 [41:37<13:45, 37.53s/it]\u001b[A\n",
            " 90%|████████▉ | 179/200 [42:18<13:28, 38.49s/it]\u001b[A\n",
            " 90%|█████████ | 180/200 [42:59<13:03, 39.16s/it]\u001b[A\n",
            " 90%|█████████ | 181/200 [43:39<12:33, 39.67s/it]\u001b[A\n",
            " 91%|█████████ | 182/200 [44:19<11:53, 39.63s/it]\u001b[A\n",
            " 92%|█████████▏| 183/200 [44:58<11:12, 39.59s/it]\u001b[A\n",
            " 92%|█████████▏| 184/200 [45:39<10:37, 39.85s/it]\u001b[A\n",
            " 92%|█████████▎| 185/200 [46:21<10:07, 40.50s/it]\u001b[A\n",
            " 93%|█████████▎| 186/200 [47:04<09:38, 41.34s/it]\u001b[A\n",
            " 94%|█████████▎| 187/200 [47:47<09:03, 41.78s/it]\u001b[A\n",
            " 94%|█████████▍| 188/200 [48:30<08:25, 42.15s/it]\u001b[A\n",
            " 94%|█████████▍| 189/200 [49:12<07:42, 42.01s/it]\u001b[A\n",
            " 95%|█████████▌| 190/200 [49:56<07:07, 42.75s/it]\u001b[A\n",
            " 96%|█████████▌| 191/200 [50:44<06:37, 44.22s/it]\u001b[A\n",
            " 96%|█████████▌| 192/200 [51:30<05:58, 44.79s/it]\u001b[A\n",
            " 96%|█████████▋| 193/200 [52:13<05:09, 44.23s/it]\u001b[A\n",
            " 97%|█████████▋| 194/200 [53:01<04:32, 45.36s/it]\u001b[A\n",
            " 98%|█████████▊| 195/200 [53:49<03:50, 46.12s/it]\u001b[A\n",
            " 98%|█████████▊| 196/200 [54:35<03:04, 46.08s/it]\u001b[A\n",
            " 98%|█████████▊| 197/200 [55:23<02:19, 46.66s/it]\u001b[A\n",
            " 99%|█████████▉| 198/200 [56:12<01:34, 47.43s/it]\u001b[A\n",
            "100%|█████████▉| 199/200 [57:02<00:48, 48.06s/it]\u001b[A\n",
            "100%|██████████| 200/200 [57:51<00:00, 48.46s/it]\u001b[A\n",
            "100%|██████████| 1/1 [1:00:19<00:00, 3619.92s/it]\n"
          ]
        }
      ]
    },
    {
      "cell_type": "code",
      "source": [
        "len(pages)"
      ],
      "metadata": {
        "colab": {
          "base_uri": "https://localhost:8080/"
        },
        "id": "uu-FGq679HZi",
        "outputId": "4e8dafcf-1fcb-4425-807e-c6496facd2ae"
      },
      "execution_count": 19,
      "outputs": [
        {
          "output_type": "execute_result",
          "data": {
            "text/plain": [
              "3216"
            ]
          },
          "metadata": {},
          "execution_count": 19
        }
      ]
    },
    {
      "cell_type": "code",
      "source": [
        "pages[0]"
      ],
      "metadata": {
        "colab": {
          "base_uri": "https://localhost:8080/"
        },
        "id": "zxbjV2QV89mS",
        "outputId": "2f576a77-80b8-42af-d3b6-14669b207315"
      },
      "execution_count": 12,
      "outputs": [
        {
          "output_type": "execute_result",
          "data": {
            "text/plain": [
              "<div class=\"tag-materials-item__box\" data-v-ae8b9a9a=\"\" itemprop=\"itemListElement\" itemscope=\"itemscope\" itemtype=\"https://schema.org/Article\"><meta content=\"1\" data-v-ae8b9a9a=\"\" itemprop=\"position\"/> <a class=\"tag-materials-item\" data-v-ae8b9a9a=\"\" href=\"https://iz.ru/1630543/2024-01-05/glavnyi-geriatr-minzdrava-nazvala-sposoby-snizheniia-riska-padenii-zimoi\" itemprop=\"url\"><meta content=\"/1630543/2024-01-05/glavnyi-geriatr-minzdrava-nazvala-sposoby-snizheniia-riska-padenii-zimoi\" data-v-ae8b9a9a=\"\" itemprop=\"mainEntityOfPage\"/> <div data-v-ae8b9a9a=\"\" itemprop=\"author\" itemscope=\"itemscope\" itemtype=\"https://schema.org/Organization\"><meta content=\"iz.ru\" data-v-ae8b9a9a=\"\" itemprop=\"name\"/> <meta content=\"https://iz.ru/\" data-v-ae8b9a9a=\"\" itemprop=\"url\"/></div> <div data-v-ae8b9a9a=\"\" itemprop=\"publisher\" itemscope=\"itemscope\" itemtype=\"https://schema.org/Organization\"><meta content=\"iz.ru\" data-v-ae8b9a9a=\"\" itemprop=\"name\"/> <div data-v-ae8b9a9a=\"\" itemprop=\"logo\" itemscope=\"itemscope\" itemtype=\"https://schema.org/ImageObject\"><meta content=\"https://front.iz.ru/favicon.png\" data-v-ae8b9a9a=\"\" itemprop=\"url\"/> <meta content=\"152\" data-v-ae8b9a9a=\"\" itemprop=\"width\"/> <meta content=\"32\" data-v-ae8b9a9a=\"\" itemprop=\"height\"/></div></div> <meta content=\"Главный гериатр Минздрава назвала способы снижения риска падений зимой\" data-v-ae8b9a9a=\"\" itemprop=\"headline\"/> <meta content=\"https://cdn.iz.ru/sites/default/files/styles/900x506/public/news-2024-01/KK404681.JPG.jpg?itok=kz9ftdg7\" data-v-ae8b9a9a=\"\" itemprop=\"image\"/> <div class=\"tag-materials-item__date\" data-v-ae8b9a9a=\"\"><meta content=\"2024-01-05T10:40:43.000Z\" data-v-ae8b9a9a=\"\" itemprop=\"datePublished\"/> <meta content=\"2024-01-05T10:40:43.000Z\" data-v-ae8b9a9a=\"\" itemprop=\"dateModified\"/>\n",
              "          05 января 2024, 10:40\n",
              "        </div> <h3 class=\"tag-materials-item__title\" data-v-ae8b9a9a=\"\" itemprop=\"name\">\n",
              "          Главный гериатр Минздрава назвала способы снижения риска падений зимой\n",
              "        </h3> <div class=\"tag-materials-item__text\" data-v-ae8b9a9a=\"\" itemprop=\"description\">\n",
              "          Главный внештатный гериатр Минздрава России Ольга Ткачева 5 января рассказала «Известиям», как снизить риск падений на улице зимой.\n",
              "        </div></a> <!-- --></div>"
            ]
          },
          "metadata": {},
          "execution_count": 12
        }
      ]
    },
    {
      "cell_type": "code",
      "execution_count": 20,
      "metadata": {
        "id": "sV-n6jw9XP0A"
      },
      "outputs": [],
      "source": [
        "def parse_page(page):\n",
        "    \"\"\"Extract from page desired fields\"\"\"\n",
        "\n",
        "    # Create article data class object\n",
        "    article = Article()\n",
        "\n",
        "    # article url\n",
        "    article.url = page.find(\"a\", {\"class\": \"tag-materials-item\"})[\"href\"]\n",
        "\n",
        "\n",
        "    # article id\n",
        "    s = re.findall(r\"ru/\\d+/\", article.url)[0]\n",
        "    article.id = s.rstrip('/]').lstrip('ru/')\n",
        "\n",
        "\n",
        "\n",
        "    # load page\n",
        "    driver.get(article.url)\n",
        "    time.sleep(SLEEP)\n",
        "    html = driver.page_source\n",
        "\n",
        "    # article object\n",
        "    soup = BeautifulSoup(html, \"html.parser\")\n",
        "\n",
        "    # process article title\n",
        "    title = soup.find('title').text\n",
        "\n",
        "    #строка вида: Хуснуллин заявил... | Новости общества | Известия | 28.12.2023\n",
        "    #берем текст до первого разделителя\n",
        "    article.title = title[:re.search(r'\\s\\|', title).start()]\n",
        "\n",
        "   # article datetime\n",
        "   # берем содержимое content <meta content=\"2023-12-28T10:53:13+03:00\" property=\"article:published_time\"/>\n",
        "    article.datetime = soup.find(\"meta\", {'property':'article:published_time'})['content']\n",
        "\n",
        "\n",
        "    # article content\n",
        "    article_body = soup.find(\n",
        "        'div', {'class': 'text-article__inside'})\n",
        "\n",
        "    article.content = article_body.find('div', {'itemprop':\"articleBody\"}).text\n",
        "\n",
        "\n",
        "\n",
        "    return article"
      ]
    },
    {
      "cell_type": "code",
      "source": [
        "parse_page(pages[0])"
      ],
      "metadata": {
        "colab": {
          "base_uri": "https://localhost:8080/"
        },
        "id": "PSsNu6vowXuR",
        "outputId": "4c42edcf-aecb-4c0a-e13b-5c4ff4363099"
      },
      "execution_count": 21,
      "outputs": [
        {
          "output_type": "execute_result",
          "data": {
            "text/plain": [
              "Article(id='1630543', url='https://iz.ru/1630543/2024-01-05/glavnyi-geriatr-minzdrava-nazvala-sposoby-snizheniia-riska-padenii-zimoi', title='Главный гериатр Минздрава назвала способы снижения риска падений зимой', content='\\nГлавный внештатный гериатр Минздрава России Ольга Ткачева 5 января рассказала «Известиям», как снизить риск падений на улице зимой.По словам медика, существует ряд простых правил для безопасной прогулки в зимнее время. Так, перед выходом на улицу следует сделать 15–20 легких приседаний, поднимитесь на цыпочки 10–15 раз для улучшения координации.Кроме того, нужно выбирать правильную обувь с противоскользящей подошвой.«Выбирайте зимнюю обувь на резиновой подошве, чтобы поддерживать сцепление на скользких поверхностях. Прикрепите к подошве зимней обуви противоскользящие приспособления для большей устойчивости», — объяснила врач.В случае передвижения с тростью к инвентарю можно прикрепить острый наконечник или шипы для более надежной фиксации на льду. Спускаясь по лестнице, нужно держитесь за поручень и ставьте обе ноги на каждую ступеньку. А вот говорить по телефону на ходу врач не рекомендует.Если падения всё-таки избежать не удалось, медик советует не паниковать.«Оставайтесь спокойным и постарайтесь понять, получили ли вы травму. Не спеша повернитесь и попробуйте сесть. Медленные движения предотвратят головокружение. Осмотритесь и найдите ближайшую стабильную опору. Если можете, встаньте сначала на одно колено, потом на другое. Вставайте, опираясь на более сильную ногу. Если есть возможность, сядьте на ближайшую лавочку», — сказала Ткачева, добавив, что после этих действий необходимо позвать на помощь или, если никого рядом нет, позвонить родственникам или в службу спасения «112».В случае возникновения травмы необходимо медицинское вмешательство. А в некоторых случаях, как при переломе проксимального отдела бедра, необходима срочная операция.\\n\\n\\n\\n\\n\\n\\n\\n        \\n        Скользкий момент: как помочь себе и другим на льду\\n\\n      \\n\\n        Помимо риска провалиться, необдуманная прогулка может грозить штрафом \\n      \\n\\n\\n\\nРанее, 28 октября, травматолог-ортопед Сергей Алексутов отметил, что при первом гололеде в сезоне люди соблюдают осторожность, но, привыкнув, начинают ходить быстрее и в результате получают травмы. Кроме того, как указал травматолог, при падении руки нужно согнуть, иначе будет перелом лучевой кости.В период гололеда часто встречается перелом локтевой кости, а также перелом лодыжки, когда человек подворачивает ногу. Алексутов добавил, что избежать падений может помочь правильная обувь с устойчивой и нескользящей подошвой.\\n', datetime='2024-01-05T13:40:43+03:00')"
            ]
          },
          "metadata": {},
          "execution_count": 21
        }
      ]
    },
    {
      "cell_type": "code",
      "source": [
        "\n",
        "n = 0\n",
        "for num_batch in range(int(len(pages)/536)):\n",
        "\n",
        "    data = []\n",
        "\n",
        "    chrome_options = webdriver.ChromeOptions()\n",
        "    chrome_options.add_argument(\"--blink-settings=imagesEnabled=false\")\n",
        "    chrome_options.add_argument(\"headless\")\n",
        "    chrome_options.add_argument(\"no-sandbox\")\n",
        "    chrome_options.add_argument(\"disable-dev-shm-usage\")\n",
        "    driver = webdriver.Chrome(options=chrome_options)\n",
        "\n",
        "    start = n + num_batch*536\n",
        "    end = start + 536\n",
        "    print(start, end)\n",
        "    for i in tqdm(range(start, end)):   #      [:100])):\n",
        "        try:\n",
        "            res = parse_page(pages[i])\n",
        "            data.append(res)\n",
        "\n",
        "\n",
        "        except:\n",
        "            pass\n",
        "    driver.close()\n",
        "    name = f'/content/drive/MyDrive/IZ_parsing/IZ_{TOPICS[0]}_{start}-{end}.csv'\n",
        "    pd.DataFrame(data=data).to_csv(name)\n",
        "\n"
      ],
      "metadata": {
        "colab": {
          "base_uri": "https://localhost:8080/"
        },
        "id": "MTOWlzV0qMiz",
        "outputId": "a03743b8-4d45-4b6b-f8cc-70743a274709"
      },
      "execution_count": 22,
      "outputs": [
        {
          "output_type": "stream",
          "name": "stdout",
          "text": [
            "0 536\n"
          ]
        },
        {
          "output_type": "stream",
          "name": "stderr",
          "text": [
            "100%|██████████| 536/536 [35:46<00:00,  4.00s/it]\n"
          ]
        },
        {
          "output_type": "stream",
          "name": "stdout",
          "text": [
            "536 1072\n"
          ]
        },
        {
          "output_type": "stream",
          "name": "stderr",
          "text": [
            "100%|██████████| 536/536 [37:07<00:00,  4.15s/it]\n"
          ]
        },
        {
          "output_type": "stream",
          "name": "stdout",
          "text": [
            "1072 1608\n"
          ]
        },
        {
          "output_type": "stream",
          "name": "stderr",
          "text": [
            "100%|██████████| 536/536 [37:54<00:00,  4.24s/it]\n"
          ]
        },
        {
          "output_type": "stream",
          "name": "stdout",
          "text": [
            "1608 2144\n"
          ]
        },
        {
          "output_type": "stream",
          "name": "stderr",
          "text": [
            "100%|██████████| 536/536 [36:59<00:00,  4.14s/it]\n"
          ]
        },
        {
          "output_type": "stream",
          "name": "stdout",
          "text": [
            "2144 2680\n"
          ]
        },
        {
          "output_type": "stream",
          "name": "stderr",
          "text": [
            "100%|██████████| 536/536 [36:56<00:00,  4.14s/it]\n"
          ]
        },
        {
          "output_type": "stream",
          "name": "stdout",
          "text": [
            "2680 3216\n"
          ]
        },
        {
          "output_type": "stream",
          "name": "stderr",
          "text": [
            "100%|██████████| 536/536 [37:04<00:00,  4.15s/it]\n"
          ]
        }
      ]
    }
  ],
  "metadata": {
    "colab": {
      "provenance": []
    },
    "interpreter": {
      "hash": "403959ecd139c89f35081fab3d0ca535dfc149adc8a1d47a6d44f830632776ba"
    },
    "kernelspec": {
      "display_name": "Python 3 (ipykernel)",
      "language": "python",
      "name": "python3"
    },
    "language_info": {
      "codemirror_mode": {
        "name": "ipython",
        "version": 3
      },
      "file_extension": ".py",
      "mimetype": "text/x-python",
      "name": "python",
      "nbconvert_exporter": "python",
      "pygments_lexer": "ipython3",
      "version": "3.9.13"
    }
  },
  "nbformat": 4,
  "nbformat_minor": 0
}