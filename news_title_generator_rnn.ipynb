{
  "metadata": {
    "colab": {
      "provenance": []
    },
    "interpreter": {
      "hash": "403959ecd139c89f35081fab3d0ca535dfc149adc8a1d47a6d44f830632776ba"
    },
    "kaggle": {
      "accelerator": "nvidiaTeslaT4",
      "dataSources": [
        {
          "sourceId": 7266269,
          "sourceType": "datasetVersion",
          "datasetId": 4211743
        },
        {
          "sourceId": 7268608,
          "sourceType": "datasetVersion",
          "datasetId": 4213445
        },
        {
          "sourceId": 7288372,
          "sourceType": "datasetVersion",
          "datasetId": 4226707
        },
        {
          "sourceId": 7342920,
          "sourceType": "datasetVersion",
          "datasetId": 4263583
        },
        {
          "sourceId": 7365453,
          "sourceType": "datasetVersion",
          "datasetId": 4269492
        },
        {
          "sourceId": 7584110,
          "sourceType": "datasetVersion",
          "datasetId": 4414732
        },
        {
          "sourceId": 7853947,
          "sourceType": "datasetVersion",
          "datasetId": 4598379
        },
        {
          "sourceId": 158218974,
          "sourceType": "kernelVersion"
        },
        {
          "sourceId": 167128651,
          "sourceType": "kernelVersion"
        }
      ],
      "dockerImageVersionId": 30627,
      "isInternetEnabled": true,
      "language": "python",
      "sourceType": "notebook",
      "isGpuEnabled": true
    },
    "kernelspec": {
      "display_name": "Python 3",
      "language": "python",
      "name": "python3"
    },
    "language_info": {
      "codemirror_mode": {
        "name": "ipython",
        "version": 3
      },
      "file_extension": ".py",
      "mimetype": "text/x-python",
      "name": "python",
      "nbconvert_exporter": "python",
      "pygments_lexer": "ipython3",
      "version": "3.10.12"
    },
    "papermill": {
      "default_parameters": {},
      "duration": 11175.31188,
      "end_time": "2024-03-14T09:25:02.140233",
      "environment_variables": {},
      "exception": null,
      "input_path": "__notebook__.ipynb",
      "output_path": "__notebook__.ipynb",
      "parameters": {},
      "start_time": "2024-03-14T06:18:46.828353",
      "version": "2.4.0"
    }
  },
  "nbformat_minor": 5,
  "nbformat": 4,
  "cells": [
    {
      "cell_type": "code",
      "source": [
        "#Ноутбук по мотивам соревнования https://www.kaggle.com/competitions/news-scraping-competition\n",
        "#Классификация новостей по темам:\n",
        "#Здоровье/Забота о себе\n",
        "#Происшествия/Силовые структуры\n",
        "#Страны бывшего СССР\n",
        "#Наука\n",
        "#Спорт\n",
        "#Туризм/Путешествия\n",
        "#Общество\n",
        "#Экономика\n",
        "#Строительство/Недвижимость"
      ],
      "metadata": {
        "papermill": {
          "duration": 0.022179,
          "end_time": "2024-03-14T06:18:50.487960",
          "exception": false,
          "start_time": "2024-03-14T06:18:50.465781",
          "status": "completed"
        },
        "tags": [],
        "execution": {
          "iopub.status.busy": "2024-03-17T16:24:27.678032Z",
          "iopub.execute_input": "2024-03-17T16:24:27.678305Z",
          "iopub.status.idle": "2024-03-17T16:24:27.685209Z",
          "shell.execute_reply.started": "2024-03-17T16:24:27.678279Z",
          "shell.execute_reply": "2024-03-17T16:24:27.684336Z"
        },
        "trusted": true,
        "id": "77h3etrSk619"
      },
      "execution_count": null,
      "outputs": [],
      "id": "77h3etrSk619"
    },
    {
      "cell_type": "code",
      "source": [
        "import pandas as pd\n",
        "from collections import Counter\n",
        "from torch.utils.data import (TensorDataset, DataLoader, RandomSampler, SequentialSampler)\n",
        "from sklearn.model_selection import train_test_split\n",
        "\n",
        "#Torch\n",
        "import torch\n",
        "import torch.nn as nn\n",
        "import torch.nn.functional as F\n",
        "import torch.optim as optim\n",
        "\n",
        "#BERT\n",
        "from transformers import BertTokenizer\n",
        "\n",
        "\n",
        "import re\n",
        "import numpy as np\n",
        "\n",
        "import warnings\n",
        "from tqdm import tqdm\n",
        "warnings.filterwarnings(\"ignore\", category=FutureWarning)\n",
        "\n",
        "import random\n",
        "import gc"
      ],
      "metadata": {
        "papermill": {
          "duration": 9.094544,
          "end_time": "2024-03-14T06:18:59.595790",
          "exception": false,
          "start_time": "2024-03-14T06:18:50.501246",
          "status": "completed"
        },
        "tags": [],
        "execution": {
          "iopub.status.busy": "2024-03-17T16:24:27.694021Z",
          "iopub.execute_input": "2024-03-17T16:24:27.694291Z",
          "iopub.status.idle": "2024-03-17T16:24:35.310791Z",
          "shell.execute_reply.started": "2024-03-17T16:24:27.694270Z",
          "shell.execute_reply": "2024-03-17T16:24:35.309934Z"
        },
        "trusted": true,
        "id": "ZePueQELk62A",
        "outputId": "484c4802-26c2-4ce8-a2ab-98d3451e399e"
      },
      "execution_count": null,
      "outputs": [
        {
          "name": "stderr",
          "text": "/opt/conda/lib/python3.10/site-packages/scipy/__init__.py:146: UserWarning: A NumPy version >=1.16.5 and <1.23.0 is required for this version of SciPy (detected version 1.24.3\n  warnings.warn(f\"A NumPy version >={np_minversion} and <{np_maxversion}\"\n",
          "output_type": "stream"
        }
      ],
      "id": "ZePueQELk62A"
    },
    {
      "cell_type": "markdown",
      "source": [
        "## Data Preparation"
      ],
      "metadata": {
        "papermill": {
          "duration": 0.012941,
          "end_time": "2024-03-14T06:18:59.621947",
          "exception": false,
          "start_time": "2024-03-14T06:18:59.609006",
          "status": "completed"
        },
        "tags": [],
        "id": "P_TN6gEsk62C"
      },
      "id": "P_TN6gEsk62C"
    },
    {
      "cell_type": "code",
      "source": [
        "# lenta.ru\n",
        "care = pd.read_csv('/kaggle/input/lentaru/care_lenta_2012-03-01_2023-12-22.csv') #5\n",
        "ussr = pd.read_csv('/kaggle/input/lentaru/ex_ussr_lenta_2012-03-01_2023-12-22.csv') #3\n",
        "police = pd.read_csv('/kaggle/input/lentaru/police_lenta_2012-03-01_2023-12-22.csv') #2\n",
        "science = pd.read_csv('/kaggle/input/lentaru/science_lenta_2012-03-01_2023-12-22.csv')#8\n",
        "sport = pd.read_csv('/kaggle/input/lentaru/sport_lenta_2012-03-01_2023-12-22.csv') #4\n",
        "tourism = pd.read_csv('/kaggle/input/lentaru/tourism_lenta_2012-03-01_2023-12-22.csv') #7\n",
        "society= pd.read_csv('/kaggle/input/lentaru/society_lenta_2012-03-01_2023-12-22.csv') #0\n",
        "economy = pd.read_csv('/kaggle/input/lentaru/economy_lenta_2012-03-01_2023-12-22.csv') #1"
      ],
      "metadata": {
        "papermill": {
          "duration": 39.130829,
          "end_time": "2024-03-14T06:19:38.765663",
          "exception": false,
          "start_time": "2024-03-14T06:18:59.634834",
          "status": "completed"
        },
        "tags": [],
        "execution": {
          "iopub.status.busy": "2024-03-17T16:24:35.312767Z",
          "iopub.execute_input": "2024-03-17T16:24:35.313220Z",
          "iopub.status.idle": "2024-03-17T16:25:16.222271Z",
          "shell.execute_reply.started": "2024-03-17T16:24:35.313191Z",
          "shell.execute_reply": "2024-03-17T16:25:16.221140Z"
        },
        "trusted": true,
        "id": "P9rnv-9Xk62D"
      },
      "execution_count": null,
      "outputs": [],
      "id": "P9rnv-9Xk62D"
    },
    {
      "cell_type": "code",
      "source": [
        "# ria.ru\n",
        "realty_list = !ls /kaggle/input/ria-custom-topics/ria_realty\n",
        "construction_list = !ls /kaggle/input/ria-custom-topics/ria_construction\n",
        "health_list = !ls /kaggle/input/ria-custom-topics/ria_health\n",
        "society_list= !ls /kaggle/input/ria-custom-topics/ria_society\n",
        "\n",
        "cat_dict = {'realty':'ria_realty/', 'construction':'ria_construction/', 'health':'ria_health/', 'society' :'ria_society/'}\n",
        "\n",
        "base = '/kaggle/input/ria-custom-topics/'\n",
        "\n",
        "def clean_ria_source(somestring):\n",
        "    pat = re.compile('([-—]\\sРИА\\sН(едвижимость|овости)\\.)|(\\/\\sРадио\\sSputnik\\.)|(\\n)')\n",
        "    somestring = re.sub(pat, '', somestring)\n",
        "    return somestring\n",
        "\n",
        "def ria_set(some, cat):\n",
        "    res = pd.DataFrame()\n",
        "    for item in some:\n",
        "        res = pd.concat([pd.read_csv(base+cat_dict[cat]+str(item)), res])\n",
        "    res = res.rename(columns={'id': 'docid', 'content':'text'})\n",
        "    res['text'] =  res['text'].apply(lambda x: clean_ria_source(x))\n",
        "    return res"
      ],
      "metadata": {
        "papermill": {
          "duration": 0.105213,
          "end_time": "2024-03-14T06:19:38.883853",
          "exception": false,
          "start_time": "2024-03-14T06:19:38.778640",
          "status": "completed"
        },
        "tags": [],
        "execution": {
          "iopub.status.busy": "2024-03-17T16:25:16.223953Z",
          "iopub.execute_input": "2024-03-17T16:25:16.224648Z",
          "iopub.status.idle": "2024-03-17T16:25:16.292688Z",
          "shell.execute_reply.started": "2024-03-17T16:25:16.224614Z",
          "shell.execute_reply": "2024-03-17T16:25:16.291855Z"
        },
        "trusted": true,
        "id": "_-eG3pMJk62E"
      },
      "execution_count": null,
      "outputs": [],
      "id": "_-eG3pMJk62E"
    },
    {
      "cell_type": "code",
      "source": [
        "realty = ria_set(realty_list, 'realty')\n",
        "construction = ria_set(construction_list, 'construction')\n",
        "health = ria_set(health_list, 'health')\n",
        "ria_society = ria_set(society_list, 'society')"
      ],
      "metadata": {
        "papermill": {
          "duration": 10.055525,
          "end_time": "2024-03-14T06:19:48.952173",
          "exception": false,
          "start_time": "2024-03-14T06:19:38.896648",
          "status": "completed"
        },
        "tags": [],
        "execution": {
          "iopub.status.busy": "2024-03-17T16:25:16.294891Z",
          "iopub.execute_input": "2024-03-17T16:25:16.295231Z",
          "iopub.status.idle": "2024-03-17T16:25:26.922716Z",
          "shell.execute_reply.started": "2024-03-17T16:25:16.295201Z",
          "shell.execute_reply": "2024-03-17T16:25:26.921629Z"
        },
        "trusted": true,
        "id": "pF37HaYIk62F"
      },
      "execution_count": null,
      "outputs": [],
      "id": "pF37HaYIk62F"
    },
    {
      "cell_type": "code",
      "source": [
        "#iz.ru\n",
        "construction_list_iz = !ls /kaggle/input/iz-construction\n",
        "base = '/kaggle/input/iz-construction/'\n",
        "res = pd.DataFrame()\n",
        "for item in construction_list_iz:\n",
        "     res = pd.concat([pd.read_csv(base+str(item)), res])\n",
        "\n",
        "construction_iz = res.rename(columns={'id': 'docid', 'content':'text'})\n",
        "construction_iz['text'] =  construction_iz['text'].apply(lambda x: clean_ria_source(x))\n",
        "\n"
      ],
      "metadata": {
        "papermill": {
          "duration": 1.22539,
          "end_time": "2024-03-14T06:19:50.190486",
          "exception": false,
          "start_time": "2024-03-14T06:19:48.965096",
          "status": "completed"
        },
        "tags": [],
        "execution": {
          "iopub.status.busy": "2024-03-17T16:25:26.923838Z",
          "iopub.execute_input": "2024-03-17T16:25:26.924100Z",
          "iopub.status.idle": "2024-03-17T16:25:28.235153Z",
          "shell.execute_reply.started": "2024-03-17T16:25:26.924076Z",
          "shell.execute_reply": "2024-03-17T16:25:28.234185Z"
        },
        "trusted": true,
        "id": "NZJBN3xik62F"
      },
      "execution_count": null,
      "outputs": [],
      "id": "NZJBN3xik62F"
    },
    {
      "cell_type": "code",
      "source": [
        "construction_iz.head()"
      ],
      "metadata": {
        "papermill": {
          "duration": 0.031531,
          "end_time": "2024-03-14T06:19:50.234833",
          "exception": false,
          "start_time": "2024-03-14T06:19:50.203302",
          "status": "completed"
        },
        "tags": [],
        "execution": {
          "iopub.status.busy": "2024-03-17T16:25:28.236194Z",
          "iopub.execute_input": "2024-03-17T16:25:28.236502Z",
          "iopub.status.idle": "2024-03-17T16:25:28.253870Z",
          "shell.execute_reply.started": "2024-03-17T16:25:28.236475Z",
          "shell.execute_reply": "2024-03-17T16:25:28.252932Z"
        },
        "trusted": true,
        "id": "B6niKEBMk62G",
        "outputId": "166ccd55-fc16-412c-da8b-27949a20ea78"
      },
      "execution_count": null,
      "outputs": [
        {
          "execution_count": 7,
          "output_type": "execute_result",
          "data": {
            "text/plain": "   Unnamed: 0    docid                                                url  \\\n0           0  1506861  https://iz.ru/1506861/2023-05-02/bank-domrf-na...   \n1           1  1505827  https://iz.ru/1505827/2023-04-28/podriadchika-...   \n2           2  1505782  https://iz.ru/1505782/2023-04-28/bashennyi-kra...   \n3           3  1505781  https://iz.ru/1505781/2023-04-28/mer-voronezha...   \n4           4  1504929  https://iz.ru/1504929/2023-04-27/gosekspertiza...   \n\n                                               title  \\\n0  Банк ДОМ.РФ назвал размер портфеля проектного ...   \n1  Подрядчика на строительство новой дороги опред...   \n2       Башенный кран упал на стройке школы в Кирове   \n3  Мэр Воронежа назначил нового главу управления ...   \n4  Госэкспертиза одобрила проект расширения желез...   \n\n                                                text  \\\n0  Портфель проектного финансирования жилищного с...   \n1  В Воронеже определили подрядчика, который займ...   \n2  Башенный кран рухнул в Кирове в пятницу, 28 ап...   \n3  Руководитель Дирекции единого заказчика капита...   \n4  Главгосэкспертиза одобрила проект реконструкци...   \n\n                    datetime  \n0  2023-05-02T12:03:19+03:00  \n1  2023-04-28T20:59:11+03:00  \n2  2023-04-28T19:28:28+03:00  \n3  2023-04-28T19:23:03+03:00  \n4  2023-04-27T12:52:27+03:00  ",
            "text/html": "<div>\n<style scoped>\n    .dataframe tbody tr th:only-of-type {\n        vertical-align: middle;\n    }\n\n    .dataframe tbody tr th {\n        vertical-align: top;\n    }\n\n    .dataframe thead th {\n        text-align: right;\n    }\n</style>\n<table border=\"1\" class=\"dataframe\">\n  <thead>\n    <tr style=\"text-align: right;\">\n      <th></th>\n      <th>Unnamed: 0</th>\n      <th>docid</th>\n      <th>url</th>\n      <th>title</th>\n      <th>text</th>\n      <th>datetime</th>\n    </tr>\n  </thead>\n  <tbody>\n    <tr>\n      <th>0</th>\n      <td>0</td>\n      <td>1506861</td>\n      <td>https://iz.ru/1506861/2023-05-02/bank-domrf-na...</td>\n      <td>Банк ДОМ.РФ назвал размер портфеля проектного ...</td>\n      <td>Портфель проектного финансирования жилищного с...</td>\n      <td>2023-05-02T12:03:19+03:00</td>\n    </tr>\n    <tr>\n      <th>1</th>\n      <td>1</td>\n      <td>1505827</td>\n      <td>https://iz.ru/1505827/2023-04-28/podriadchika-...</td>\n      <td>Подрядчика на строительство новой дороги опред...</td>\n      <td>В Воронеже определили подрядчика, который займ...</td>\n      <td>2023-04-28T20:59:11+03:00</td>\n    </tr>\n    <tr>\n      <th>2</th>\n      <td>2</td>\n      <td>1505782</td>\n      <td>https://iz.ru/1505782/2023-04-28/bashennyi-kra...</td>\n      <td>Башенный кран упал на стройке школы в Кирове</td>\n      <td>Башенный кран рухнул в Кирове в пятницу, 28 ап...</td>\n      <td>2023-04-28T19:28:28+03:00</td>\n    </tr>\n    <tr>\n      <th>3</th>\n      <td>3</td>\n      <td>1505781</td>\n      <td>https://iz.ru/1505781/2023-04-28/mer-voronezha...</td>\n      <td>Мэр Воронежа назначил нового главу управления ...</td>\n      <td>Руководитель Дирекции единого заказчика капита...</td>\n      <td>2023-04-28T19:23:03+03:00</td>\n    </tr>\n    <tr>\n      <th>4</th>\n      <td>4</td>\n      <td>1504929</td>\n      <td>https://iz.ru/1504929/2023-04-27/gosekspertiza...</td>\n      <td>Госэкспертиза одобрила проект расширения желез...</td>\n      <td>Главгосэкспертиза одобрила проект реконструкци...</td>\n      <td>2023-04-27T12:52:27+03:00</td>\n    </tr>\n  </tbody>\n</table>\n</div>"
          },
          "metadata": {}
        }
      ],
      "id": "B6niKEBMk62G"
    },
    {
      "cell_type": "code",
      "source": [
        "construction_iz['text']"
      ],
      "metadata": {
        "papermill": {
          "duration": 0.024509,
          "end_time": "2024-03-14T06:19:50.272171",
          "exception": false,
          "start_time": "2024-03-14T06:19:50.247662",
          "status": "completed"
        },
        "tags": [],
        "execution": {
          "iopub.status.busy": "2024-03-17T16:25:28.255450Z",
          "iopub.execute_input": "2024-03-17T16:25:28.255742Z",
          "iopub.status.idle": "2024-03-17T16:25:28.263960Z",
          "shell.execute_reply.started": "2024-03-17T16:25:28.255718Z",
          "shell.execute_reply": "2024-03-17T16:25:28.262780Z"
        },
        "trusted": true,
        "id": "F_Ay_v_ik62G",
        "outputId": "4beb93b7-a9bb-4514-ea08-5889613a7021"
      },
      "execution_count": null,
      "outputs": [
        {
          "execution_count": 8,
          "output_type": "execute_result",
          "data": {
            "text/plain": "0      Портфель проектного финансирования жилищного с...\n1      В Воронеже определили подрядчика, который займ...\n2      Башенный кран рухнул в Кирове в пятницу, 28 ап...\n3      Руководитель Дирекции единого заказчика капита...\n4      Главгосэкспертиза одобрила проект реконструкци...\n                             ...                        \n480    Основной этап строительства третьего энергобло...\n481    Губернатор Алтайского края Виктор Томенко попр...\n482    В Татарстане на третьем этапе обхода Нижнекамс...\n483    Путепровод в селе Дубки Симферопольского район...\n484    На проспекте Ленина в Барнауле начался монтаж ...\nName: text, Length: 3086, dtype: object"
          },
          "metadata": {}
        }
      ],
      "id": "F_Ay_v_ik62G"
    },
    {
      "cell_type": "code",
      "source": [
        "realty['text']"
      ],
      "metadata": {
        "papermill": {
          "duration": 0.023577,
          "end_time": "2024-03-14T06:19:50.309087",
          "exception": false,
          "start_time": "2024-03-14T06:19:50.285510",
          "status": "completed"
        },
        "tags": [],
        "execution": {
          "iopub.status.busy": "2024-03-17T16:25:28.265493Z",
          "iopub.execute_input": "2024-03-17T16:25:28.266044Z",
          "iopub.status.idle": "2024-03-17T16:25:28.276876Z",
          "shell.execute_reply.started": "2024-03-17T16:25:28.266008Z",
          "shell.execute_reply": "2024-03-17T16:25:28.275994Z"
        },
        "trusted": true,
        "id": "6GomUh6ik62H",
        "outputId": "e97ea808-c346-41f9-ceec-e4a2f9b73c92"
      },
      "execution_count": null,
      "outputs": [
        {
          "execution_count": 9,
          "output_type": "execute_result",
          "data": {
            "text/plain": "0      СОЧИ, 2 ноя  Самый большой фудхолл сети Eat Ma...\n1      МОСКВА, 2 ноя  Президент России Владимир Путин...\n2      МОСКВА, 2 ноя  Альфа-банк открыл Setl Group кр...\n3      МОСКВА, 2 ноя  Краснодарская компания \"Консалт...\n4      МОСКВА, 2 ноя  X5 Group, управляющая сетями \"П...\n                             ...                        \n972    СОЧИ, 2 ноя  Фудхоллы Eat Market могут появить...\n973    МОСКВА, 2 ноя  Межрегиональное территориальное...\n974    МОСКВА, 2 ноя  Президент России Владимир Путин...\n975    СОЧИ, 2 ноя  Сеть турецких ресторанов Big Chef...\n976    МОСКВА, 2 ноя  Вторичное жилье в крупных росси...\nName: text, Length: 6128, dtype: object"
          },
          "metadata": {}
        }
      ],
      "id": "6GomUh6ik62H"
    },
    {
      "cell_type": "code",
      "source": [
        "realty = pd.concat([realty, construction, construction_iz], ignore_index=True)\n",
        "society = pd.concat([society, ria_society], ignore_index=True)\n",
        "care = pd.concat([health, care], ignore_index=True)"
      ],
      "metadata": {
        "papermill": {
          "duration": 0.068387,
          "end_time": "2024-03-14T06:19:50.390393",
          "exception": false,
          "start_time": "2024-03-14T06:19:50.322006",
          "status": "completed"
        },
        "tags": [],
        "execution": {
          "iopub.status.busy": "2024-03-17T16:25:28.278423Z",
          "iopub.execute_input": "2024-03-17T16:25:28.278745Z",
          "iopub.status.idle": "2024-03-17T16:25:28.332657Z",
          "shell.execute_reply.started": "2024-03-17T16:25:28.278718Z",
          "shell.execute_reply": "2024-03-17T16:25:28.331778Z"
        },
        "trusted": true,
        "id": "d_3cgUHAk62I"
      },
      "execution_count": null,
      "outputs": [],
      "id": "d_3cgUHAk62I"
    },
    {
      "cell_type": "code",
      "source": [
        "care.loc[:, 'target'] = 5\n",
        "ussr.loc[:, 'target'] = 3\n",
        "police.loc[:, 'target'] = 2\n",
        "science.loc[:, 'target'] = 8\n",
        "sport.loc[:, 'target'] = 4\n",
        "tourism.loc[:, 'target'] = 7\n",
        "society.loc[:, 'target'] = 0\n",
        "economy.loc[:, 'target'] = 1\n",
        "realty.loc[:, 'target'] = 6\n"
      ],
      "metadata": {
        "papermill": {
          "duration": 0.027956,
          "end_time": "2024-03-14T06:19:50.477542",
          "exception": false,
          "start_time": "2024-03-14T06:19:50.449586",
          "status": "completed"
        },
        "tags": [],
        "execution": {
          "iopub.status.busy": "2024-03-17T16:25:28.336122Z",
          "iopub.execute_input": "2024-03-17T16:25:28.336471Z",
          "iopub.status.idle": "2024-03-17T16:25:28.348517Z",
          "shell.execute_reply.started": "2024-03-17T16:25:28.336443Z",
          "shell.execute_reply": "2024-03-17T16:25:28.347352Z"
        },
        "trusted": true,
        "id": "cMMMSC-Sk62I"
      },
      "execution_count": null,
      "outputs": [],
      "id": "cMMMSC-Sk62I"
    },
    {
      "cell_type": "code",
      "source": [
        "realty.drop_duplicates(['text', 'title'], inplace=True)\n",
        "care.drop_duplicates(['text', 'title'], inplace=True)\n",
        "society.drop_duplicates(['text', 'title'], inplace=True)"
      ],
      "metadata": {
        "papermill": {
          "duration": 1.969937,
          "end_time": "2024-03-14T06:19:52.460498",
          "exception": false,
          "start_time": "2024-03-14T06:19:50.490561",
          "status": "completed"
        },
        "tags": [],
        "execution": {
          "iopub.status.busy": "2024-03-17T16:25:28.350050Z",
          "iopub.execute_input": "2024-03-17T16:25:28.350603Z",
          "iopub.status.idle": "2024-03-17T16:25:30.396567Z",
          "shell.execute_reply.started": "2024-03-17T16:25:28.350574Z",
          "shell.execute_reply": "2024-03-17T16:25:30.395695Z"
        },
        "trusted": true,
        "id": "48LTspUJk62J"
      },
      "execution_count": null,
      "outputs": [],
      "id": "48LTspUJk62J"
    },
    {
      "cell_type": "code",
      "source": [
        "lens = []\n",
        "for item in [care, ussr, police, science, sport, tourism, society, economy, realty]:\n",
        "    lens.append(len(item))\n",
        "lens"
      ],
      "metadata": {
        "papermill": {
          "duration": 0.022905,
          "end_time": "2024-03-14T06:19:52.498160",
          "exception": false,
          "start_time": "2024-03-14T06:19:52.475255",
          "status": "completed"
        },
        "tags": [],
        "execution": {
          "iopub.status.busy": "2024-03-17T16:25:30.397771Z",
          "iopub.execute_input": "2024-03-17T16:25:30.398083Z",
          "iopub.status.idle": "2024-03-17T16:25:30.405623Z",
          "shell.execute_reply.started": "2024-03-17T16:25:30.398057Z",
          "shell.execute_reply": "2024-03-17T16:25:30.404579Z"
        },
        "trusted": true,
        "id": "BIL1tOD3k62J",
        "outputId": "9a06a293-d555-4bc5-eea8-8cee4f08722f"
      },
      "execution_count": null,
      "outputs": [
        {
          "execution_count": 13,
          "output_type": "execute_result",
          "data": {
            "text/plain": "[14522, 70248, 53269, 52710, 65520, 28643, 109656, 73008, 12218]"
          },
          "metadata": {}
        }
      ],
      "id": "BIL1tOD3k62J"
    },
    {
      "cell_type": "code",
      "source": [
        "cols_to_keep = ['title']"
      ],
      "metadata": {
        "papermill": {
          "duration": 0.022206,
          "end_time": "2024-03-14T06:19:52.533330",
          "exception": false,
          "start_time": "2024-03-14T06:19:52.511124",
          "status": "completed"
        },
        "tags": [],
        "execution": {
          "iopub.status.busy": "2024-03-17T16:25:30.407008Z",
          "iopub.execute_input": "2024-03-17T16:25:30.407400Z",
          "iopub.status.idle": "2024-03-17T16:25:30.415088Z",
          "shell.execute_reply.started": "2024-03-17T16:25:30.407365Z",
          "shell.execute_reply": "2024-03-17T16:25:30.414275Z"
        },
        "trusted": true,
        "id": "TH4TTTHNk62K"
      },
      "execution_count": null,
      "outputs": [],
      "id": "TH4TTTHNk62K"
    },
    {
      "cell_type": "code",
      "source": [
        "df = pd.concat([care, ussr, police, science, sport, tourism, society, economy, realty], ignore_index=True)\n",
        "df = df[cols_to_keep]"
      ],
      "metadata": {
        "papermill": {
          "duration": 0.225932,
          "end_time": "2024-03-14T06:19:52.772855",
          "exception": false,
          "start_time": "2024-03-14T06:19:52.546923",
          "status": "completed"
        },
        "tags": [],
        "execution": {
          "iopub.status.busy": "2024-03-17T16:25:30.416361Z",
          "iopub.execute_input": "2024-03-17T16:25:30.416741Z",
          "iopub.status.idle": "2024-03-17T16:25:30.644273Z",
          "shell.execute_reply.started": "2024-03-17T16:25:30.416704Z",
          "shell.execute_reply": "2024-03-17T16:25:30.643309Z"
        },
        "trusted": true,
        "id": "KPpH0wxmk62K"
      },
      "execution_count": null,
      "outputs": [],
      "id": "KPpH0wxmk62K"
    },
    {
      "cell_type": "code",
      "source": [
        "df.shape"
      ],
      "metadata": {
        "papermill": {
          "duration": 0.022379,
          "end_time": "2024-03-14T06:19:52.809039",
          "exception": false,
          "start_time": "2024-03-14T06:19:52.786660",
          "status": "completed"
        },
        "tags": [],
        "execution": {
          "iopub.status.busy": "2024-03-17T16:25:30.645643Z",
          "iopub.execute_input": "2024-03-17T16:25:30.646450Z",
          "iopub.status.idle": "2024-03-17T16:25:30.653550Z",
          "shell.execute_reply.started": "2024-03-17T16:25:30.646411Z",
          "shell.execute_reply": "2024-03-17T16:25:30.652397Z"
        },
        "trusted": true,
        "id": "Duk1kq1Wk62K",
        "outputId": "bc9faeda-04c9-4eac-c6cc-1cacaff3e7f0"
      },
      "execution_count": null,
      "outputs": [
        {
          "execution_count": 16,
          "output_type": "execute_result",
          "data": {
            "text/plain": "(479794, 1)"
          },
          "metadata": {}
        }
      ],
      "id": "Duk1kq1Wk62K"
    },
    {
      "cell_type": "code",
      "source": [
        "df.isna().any().sum()"
      ],
      "metadata": {
        "papermill": {
          "duration": 0.072662,
          "end_time": "2024-03-14T06:19:52.894890",
          "exception": false,
          "start_time": "2024-03-14T06:19:52.822228",
          "status": "completed"
        },
        "tags": [],
        "execution": {
          "iopub.status.busy": "2024-03-17T16:25:30.655035Z",
          "iopub.execute_input": "2024-03-17T16:25:30.655534Z",
          "iopub.status.idle": "2024-03-17T16:25:30.721125Z",
          "shell.execute_reply.started": "2024-03-17T16:25:30.655495Z",
          "shell.execute_reply": "2024-03-17T16:25:30.719974Z"
        },
        "trusted": true,
        "id": "e2LCe3p9k62L",
        "outputId": "dee93ca7-8875-4d90-89bc-8fe8e61be519"
      },
      "execution_count": null,
      "outputs": [
        {
          "execution_count": 17,
          "output_type": "execute_result",
          "data": {
            "text/plain": "0"
          },
          "metadata": {}
        }
      ],
      "id": "e2LCe3p9k62L"
    },
    {
      "cell_type": "code",
      "source": [
        "df.head(3)"
      ],
      "metadata": {
        "papermill": {
          "duration": 0.025398,
          "end_time": "2024-03-14T06:19:52.934784",
          "exception": false,
          "start_time": "2024-03-14T06:19:52.909386",
          "status": "completed"
        },
        "tags": [],
        "execution": {
          "iopub.status.busy": "2024-03-17T16:25:30.722768Z",
          "iopub.execute_input": "2024-03-17T16:25:30.723171Z",
          "iopub.status.idle": "2024-03-17T16:25:30.733684Z",
          "shell.execute_reply.started": "2024-03-17T16:25:30.723141Z",
          "shell.execute_reply": "2024-03-17T16:25:30.732400Z"
        },
        "trusted": true,
        "id": "tKbvcPTck62L",
        "outputId": "bad1c143-c3da-449a-9d59-7f8b5ab25c35"
      },
      "execution_count": null,
      "outputs": [
        {
          "execution_count": 18,
          "output_type": "execute_result",
          "data": {
            "text/plain": "                                               title\n0  В Роспотребнадзоре заявили, что штамм \"дельта\"...\n1   Названа приправа, у которой 300 полезных свойств\n2  Диетологи назвали неожиданные эффекты от ежедн...",
            "text/html": "<div>\n<style scoped>\n    .dataframe tbody tr th:only-of-type {\n        vertical-align: middle;\n    }\n\n    .dataframe tbody tr th {\n        vertical-align: top;\n    }\n\n    .dataframe thead th {\n        text-align: right;\n    }\n</style>\n<table border=\"1\" class=\"dataframe\">\n  <thead>\n    <tr style=\"text-align: right;\">\n      <th></th>\n      <th>title</th>\n    </tr>\n  </thead>\n  <tbody>\n    <tr>\n      <th>0</th>\n      <td>В Роспотребнадзоре заявили, что штамм \"дельта\"...</td>\n    </tr>\n    <tr>\n      <th>1</th>\n      <td>Названа приправа, у которой 300 полезных свойств</td>\n    </tr>\n    <tr>\n      <th>2</th>\n      <td>Диетологи назвали неожиданные эффекты от ежедн...</td>\n    </tr>\n  </tbody>\n</table>\n</div>"
          },
          "metadata": {}
        }
      ],
      "id": "tKbvcPTck62L"
    },
    {
      "cell_type": "code",
      "source": [
        "data_trainval, data_test = train_test_split(df, test_size=0.25, random_state = 112)\n",
        "data_train, data_val = train_test_split(data_trainval, test_size=0.1, random_state = 112)"
      ],
      "metadata": {
        "papermill": {
          "duration": 0.107295,
          "end_time": "2024-03-14T06:19:53.055732",
          "exception": false,
          "start_time": "2024-03-14T06:19:52.948437",
          "status": "completed"
        },
        "tags": [],
        "execution": {
          "iopub.status.busy": "2024-03-17T16:25:30.735489Z",
          "iopub.execute_input": "2024-03-17T16:25:30.735829Z",
          "iopub.status.idle": "2024-03-17T16:25:30.856947Z",
          "shell.execute_reply.started": "2024-03-17T16:25:30.735799Z",
          "shell.execute_reply": "2024-03-17T16:25:30.856007Z"
        },
        "trusted": true,
        "id": "Zu55kNgKk62M"
      },
      "execution_count": null,
      "outputs": [],
      "id": "Zu55kNgKk62M"
    },
    {
      "cell_type": "code",
      "source": [
        "data_train.to_csv('data_train.csv')\n",
        "data_test.to_csv('data_test.csv')\n",
        "data_val.to_csv('data_val.csv')\n"
      ],
      "metadata": {
        "papermill": {
          "duration": 2.562098,
          "end_time": "2024-03-14T06:19:55.631772",
          "exception": false,
          "start_time": "2024-03-14T06:19:53.069674",
          "status": "completed"
        },
        "tags": [],
        "execution": {
          "iopub.status.busy": "2024-03-17T16:25:30.858276Z",
          "iopub.execute_input": "2024-03-17T16:25:30.858642Z",
          "iopub.status.idle": "2024-03-17T16:25:33.583333Z",
          "shell.execute_reply.started": "2024-03-17T16:25:30.858611Z",
          "shell.execute_reply": "2024-03-17T16:25:33.582405Z"
        },
        "trusted": true,
        "id": "cBWCI7rhk62M"
      },
      "execution_count": null,
      "outputs": [],
      "id": "cBWCI7rhk62M"
    },
    {
      "cell_type": "markdown",
      "source": [
        "## Dataset"
      ],
      "metadata": {
        "papermill": {
          "duration": 0.013352,
          "end_time": "2024-03-14T06:19:55.705123",
          "exception": false,
          "start_time": "2024-03-14T06:19:55.691771",
          "status": "completed"
        },
        "tags": [],
        "id": "Qm64_WuSk62M"
      },
      "id": "Qm64_WuSk62M"
    },
    {
      "cell_type": "code",
      "source": [
        "device = torch.device(\"cuda:0\" if torch.cuda.is_available() else \"cpu\")\n"
      ],
      "metadata": {
        "papermill": {
          "duration": 0.024326,
          "end_time": "2024-03-14T06:20:13.924249",
          "exception": false,
          "start_time": "2024-03-14T06:20:13.899923",
          "status": "completed"
        },
        "tags": [],
        "execution": {
          "iopub.status.busy": "2024-03-17T16:25:52.678632Z",
          "iopub.execute_input": "2024-03-17T16:25:52.679137Z",
          "iopub.status.idle": "2024-03-17T16:25:52.684256Z",
          "shell.execute_reply.started": "2024-03-17T16:25:52.679109Z",
          "shell.execute_reply": "2024-03-17T16:25:52.683212Z"
        },
        "trusted": true,
        "id": "iRXI2eDDk62N"
      },
      "execution_count": null,
      "outputs": [],
      "id": "iRXI2eDDk62N"
    },
    {
      "cell_type": "code",
      "source": [
        "MAX_LEN = 2048\n",
        "VOCAB_SIZE = 83828 #rubert-tiny2 vocab size\n",
        "tokenizer = BertTokenizer.from_pretrained('cointegrated/rubert-tiny2')"
      ],
      "metadata": {
        "papermill": {
          "duration": 0.302043,
          "end_time": "2024-03-14T06:20:14.242463",
          "exception": false,
          "start_time": "2024-03-14T06:20:13.940420",
          "status": "completed"
        },
        "tags": [],
        "execution": {
          "iopub.status.busy": "2024-03-17T16:25:52.685584Z",
          "iopub.execute_input": "2024-03-17T16:25:52.685859Z",
          "iopub.status.idle": "2024-03-17T16:25:52.971241Z",
          "shell.execute_reply.started": "2024-03-17T16:25:52.685835Z",
          "shell.execute_reply": "2024-03-17T16:25:52.970386Z"
        },
        "trusted": true,
        "id": "AxulOO2Jk62N"
      },
      "execution_count": null,
      "outputs": [],
      "id": "AxulOO2Jk62N"
    },
    {
      "cell_type": "code",
      "source": [
        "tokenizer.encode_plus('В Роспотребнадзоре заявили что')"
      ],
      "metadata": {
        "papermill": {
          "duration": 0.026382,
          "end_time": "2024-03-14T06:20:14.285410",
          "exception": false,
          "start_time": "2024-03-14T06:20:14.259028",
          "status": "completed"
        },
        "tags": [],
        "execution": {
          "iopub.status.busy": "2024-03-17T16:25:52.972433Z",
          "iopub.execute_input": "2024-03-17T16:25:52.972735Z",
          "iopub.status.idle": "2024-03-17T16:25:52.980065Z",
          "shell.execute_reply.started": "2024-03-17T16:25:52.972710Z",
          "shell.execute_reply": "2024-03-17T16:25:52.979033Z"
        },
        "trusted": true,
        "id": "2_tiU0uqk62O",
        "outputId": "7db9972a-8d95-45fd-f4a9-6b8fae798ffd"
      },
      "execution_count": null,
      "outputs": [
        {
          "execution_count": 25,
          "output_type": "execute_result",
          "data": {
            "text/plain": "{'input_ids': [2, 282, 74135, 31466, 1046, 3], 'token_type_ids': [0, 0, 0, 0, 0, 0], 'attention_mask': [1, 1, 1, 1, 1, 1]}"
          },
          "metadata": {}
        }
      ],
      "id": "2_tiU0uqk62O"
    },
    {
      "cell_type": "markdown",
      "source": [
        "## Dataset"
      ],
      "metadata": {
        "id": "Zm2j0v1yk62O"
      },
      "id": "Zm2j0v1yk62O"
    },
    {
      "cell_type": "code",
      "source": [
        "#обучим свои эмбеддинги на токенизаторе rubert-tiny2\n",
        "BATCH_SIZE=12"
      ],
      "metadata": {
        "papermill": {
          "duration": 0.022712,
          "end_time": "2024-03-14T06:20:14.324335",
          "exception": false,
          "start_time": "2024-03-14T06:20:14.301623",
          "status": "completed"
        },
        "tags": [],
        "execution": {
          "iopub.status.busy": "2024-03-17T16:25:52.981289Z",
          "iopub.execute_input": "2024-03-17T16:25:52.981696Z",
          "iopub.status.idle": "2024-03-17T16:25:52.987399Z",
          "shell.execute_reply.started": "2024-03-17T16:25:52.981669Z",
          "shell.execute_reply": "2024-03-17T16:25:52.986459Z"
        },
        "trusted": true,
        "id": "icwaMFfck62P"
      },
      "execution_count": null,
      "outputs": [],
      "id": "icwaMFfck62P"
    },
    {
      "cell_type": "code",
      "source": [
        "MAX_SEQ_LEN = 30 # обрезаем длину заголовка\n",
        "from torch.utils.data import Dataset\n",
        "\n",
        "class CustomDataset(Dataset):\n",
        "\n",
        "    def __init__(self, texts, tokenizer, max_len=MAX_SEQ_LEN):\n",
        "        self.texts = texts\n",
        "        self.tokenizer = tokenizer\n",
        "        self.max_len = max_len\n",
        "\n",
        "    def __len__(self):\n",
        "        return len(self.texts)\n",
        "\n",
        "    def __getitem__(self, idx):\n",
        "        text = self.texts[idx]\n",
        "\n",
        "\n",
        "        encoding = self.tokenizer.encode_plus(\n",
        "            text,\n",
        "            add_special_tokens=True,\n",
        "            max_length=self.max_len,\n",
        "            return_token_type_ids=False,\n",
        "            padding='max_length',\n",
        "            return_attention_mask=False,\n",
        "            truncation=True,\n",
        "            return_tensors='pt',\n",
        "        )\n",
        "\n",
        "        return {\n",
        "           'text': text,\n",
        "           'input_ids': encoding['input_ids'][:,:-1].flatten().to(device),\n",
        "\n",
        "           'targets': encoding['input_ids'][:,1:].flatten().to(device),\n",
        "            }\n",
        "\n",
        ""
      ],
      "metadata": {
        "papermill": {
          "duration": 0.02746,
          "end_time": "2024-03-14T06:20:14.446515",
          "exception": false,
          "start_time": "2024-03-14T06:20:14.419055",
          "status": "completed"
        },
        "tags": [],
        "execution": {
          "iopub.status.busy": "2024-03-17T16:25:52.988584Z",
          "iopub.execute_input": "2024-03-17T16:25:52.988905Z",
          "iopub.status.idle": "2024-03-17T16:25:52.998210Z",
          "shell.execute_reply.started": "2024-03-17T16:25:52.988880Z",
          "shell.execute_reply": "2024-03-17T16:25:52.997210Z"
        },
        "trusted": true,
        "id": "fjj5BY_Ok62P"
      },
      "execution_count": null,
      "outputs": [],
      "id": "fjj5BY_Ok62P"
    },
    {
      "cell_type": "code",
      "source": [
        "[item for item in zip(tokenizer.all_special_tokens, tokenizer.all_special_ids)]\n"
      ],
      "metadata": {
        "papermill": {
          "duration": 0.026396,
          "end_time": "2024-03-14T06:20:14.570058",
          "exception": false,
          "start_time": "2024-03-14T06:20:14.543662",
          "status": "completed"
        },
        "tags": [],
        "execution": {
          "iopub.status.busy": "2024-03-17T16:25:52.999756Z",
          "iopub.execute_input": "2024-03-17T16:25:53.000068Z",
          "iopub.status.idle": "2024-03-17T16:25:53.014128Z",
          "shell.execute_reply.started": "2024-03-17T16:25:53.000043Z",
          "shell.execute_reply": "2024-03-17T16:25:53.013139Z"
        },
        "trusted": true,
        "id": "JuQNdfu9k62P",
        "outputId": "c9682f9c-40e8-4110-e35c-00894f8c8d49"
      },
      "execution_count": null,
      "outputs": [
        {
          "execution_count": 28,
          "output_type": "execute_result",
          "data": {
            "text/plain": "[('[UNK]', 1), ('[SEP]', 3), ('[PAD]', 0), ('[CLS]', 2), ('[MASK]', 4)]"
          },
          "metadata": {}
        }
      ],
      "id": "JuQNdfu9k62P"
    },
    {
      "cell_type": "markdown",
      "source": [
        "## Classifier"
      ],
      "metadata": {
        "id": "I2yqg2ifk62Q"
      },
      "id": "I2yqg2ifk62Q"
    },
    {
      "cell_type": "code",
      "source": [
        "HIDDEN_DIM = 512\n",
        "N_LAYERS = 2\n",
        "BIDIRECTIONAL = False\n"
      ],
      "metadata": {
        "papermill": {
          "duration": 0.024539,
          "end_time": "2024-03-14T06:20:14.611171",
          "exception": false,
          "start_time": "2024-03-14T06:20:14.586632",
          "status": "completed"
        },
        "tags": [],
        "execution": {
          "iopub.status.busy": "2024-03-17T16:25:53.019626Z",
          "iopub.execute_input": "2024-03-17T16:25:53.020003Z",
          "iopub.status.idle": "2024-03-17T16:25:53.024287Z",
          "shell.execute_reply.started": "2024-03-17T16:25:53.019976Z",
          "shell.execute_reply": "2024-03-17T16:25:53.023383Z"
        },
        "trusted": true,
        "id": "FohIEmjdk62Q"
      },
      "execution_count": null,
      "outputs": [],
      "id": "FohIEmjdk62Q"
    },
    {
      "cell_type": "code",
      "source": [
        "class LSTMClassifier(nn.Module):\n",
        "\n",
        "    def __init__(self,  n_classes = VOCAB_SIZE, vocab_size = VOCAB_SIZE, embedding_dim=MAX_LEN, hidden_dim=HIDDEN_DIM, n_layers=N_LAYERS, bidirectional=BIDIRECTIONAL\n",
        "     ):\n",
        "\n",
        "        super().__init__()\n",
        "        self.embedding = nn.Embedding(vocab_size, embedding_dim)\n",
        "        self.rnn = nn.LSTM(\n",
        "            embedding_dim,\n",
        "            hidden_dim,\n",
        "            n_layers,\n",
        "            bidirectional=bidirectional,\n",
        "            dropout = 0.3,\n",
        "            batch_first=True,\n",
        "        )\n",
        "        self.hidden_dim = hidden_dim\n",
        "        self.output_dim = n_classes\n",
        "        self.linear = nn.Linear(self.hidden_dim, self.hidden_dim)\n",
        "        self.projection = nn.Linear(self.hidden_dim, self.output_dim)\n",
        "        self.func = nn.Tanh()\n",
        "        self.dropout = nn.Dropout(p=0.1)\n",
        "\n",
        "    def forward(self, inputs):\n",
        "\n",
        "        inputs = self.embedding(inputs)\n",
        "\n",
        "        outputs, (hidden, cell) = self.rnn(inputs)\n",
        "\n",
        "       # outputs = torch.mean(outputs, dim=1)\n",
        "\n",
        "        outputs = self.dropout(self.linear(self.func(outputs)))\n",
        "        projection = self.projection(self.func(outputs))\n",
        "\n",
        "        return projection\n",
        ""
      ],
      "metadata": {
        "papermill": {
          "duration": 0.02782,
          "end_time": "2024-03-14T06:20:14.695553",
          "exception": false,
          "start_time": "2024-03-14T06:20:14.667733",
          "status": "completed"
        },
        "tags": [],
        "execution": {
          "iopub.status.busy": "2024-03-17T16:25:53.025626Z",
          "iopub.execute_input": "2024-03-17T16:25:53.025900Z",
          "iopub.status.idle": "2024-03-17T16:25:53.035728Z",
          "shell.execute_reply.started": "2024-03-17T16:25:53.025876Z",
          "shell.execute_reply": "2024-03-17T16:25:53.034834Z"
        },
        "trusted": true,
        "id": "_cf59hfek62Q"
      },
      "execution_count": null,
      "outputs": [],
      "id": "_cf59hfek62Q"
    },
    {
      "cell_type": "code",
      "source": [
        "train_dataset = CustomDataset(list(data_train['title']), tokenizer=tokenizer)\n",
        "val_dataset = CustomDataset(list(data_val['title']), tokenizer=tokenizer)\n",
        "\n",
        "    # create data loaders\n",
        "train_data = DataLoader(train_dataset, batch_size=BATCH_SIZE, shuffle=True)\n",
        "val_data =  DataLoader(val_dataset, batch_size=BATCH_SIZE, shuffle=False)"
      ],
      "metadata": {
        "papermill": {
          "duration": 0.138551,
          "end_time": "2024-03-14T06:20:14.850415",
          "exception": false,
          "start_time": "2024-03-14T06:20:14.711864",
          "status": "completed"
        },
        "tags": [],
        "execution": {
          "iopub.status.busy": "2024-03-17T16:25:53.036860Z",
          "iopub.execute_input": "2024-03-17T16:25:53.039235Z",
          "iopub.status.idle": "2024-03-17T16:25:53.171105Z",
          "shell.execute_reply.started": "2024-03-17T16:25:53.039207Z",
          "shell.execute_reply": "2024-03-17T16:25:53.170030Z"
        },
        "trusted": true,
        "id": "1oT9ALB2k62R"
      },
      "execution_count": null,
      "outputs": [],
      "id": "1oT9ALB2k62R"
    },
    {
      "cell_type": "code",
      "source": [
        "test_dataset = CustomDataset(list(data_test['title']),tokenizer=tokenizer)\n",
        "test_data = DataLoader(test_dataset, batch_size=BATCH_SIZE, shuffle=False)"
      ],
      "metadata": {
        "papermill": {
          "duration": 0.051665,
          "end_time": "2024-03-14T06:20:14.918896",
          "exception": false,
          "start_time": "2024-03-14T06:20:14.867231",
          "status": "completed"
        },
        "tags": [],
        "execution": {
          "iopub.status.busy": "2024-03-17T16:25:53.172550Z",
          "iopub.execute_input": "2024-03-17T16:25:53.172909Z",
          "iopub.status.idle": "2024-03-17T16:25:53.212896Z",
          "shell.execute_reply.started": "2024-03-17T16:25:53.172879Z",
          "shell.execute_reply": "2024-03-17T16:25:53.211831Z"
        },
        "trusted": true,
        "id": "zrsaGMjTk62R"
      },
      "execution_count": null,
      "outputs": [],
      "id": "zrsaGMjTk62R"
    },
    {
      "cell_type": "code",
      "source": [
        "def generate_sequence(model, starter,  max_seq_len = MAX_SEQ_LEN) -> str:\n",
        "    model = model.to('cpu')\n",
        "    input_ids = tokenizer.encode_plus(starter)['input_ids']\n",
        "    input_ids.pop(-1)\n",
        "    sentence = torch.LongTensor(input_ids).to('cpu')\n",
        "    model.eval()\n",
        "    with torch.no_grad():\n",
        "        for i in range(max_seq_len - len(input_ids)):\n",
        "            next_word_distribution = model(sentence)[-1]\n",
        "            next_word_sample = torch.topk(next_word_distribution, 5)[1].detach().cpu().numpy()\n",
        "            next_word = torch.LongTensor(np.random.choice(next_word_sample, 1)).to('cpu')\n",
        "            sentence = torch.cat([sentence, next_word])\n",
        "\n",
        "            if next_word.item() == 3:\n",
        "                break\n",
        "\n",
        "    sequence = tokenizer.decode(sentence, skip_special_tokens=True, clean_up_tokenization_spaces=True)\n",
        "\n",
        "    return sequence"
      ],
      "metadata": {
        "papermill": {
          "duration": 0.026591,
          "end_time": "2024-03-14T06:20:15.043144",
          "exception": false,
          "start_time": "2024-03-14T06:20:15.016553",
          "status": "completed"
        },
        "tags": [],
        "execution": {
          "iopub.status.busy": "2024-03-17T16:25:53.214238Z",
          "iopub.execute_input": "2024-03-17T16:25:53.214665Z",
          "iopub.status.idle": "2024-03-17T16:25:53.225107Z",
          "shell.execute_reply.started": "2024-03-17T16:25:53.214633Z",
          "shell.execute_reply": "2024-03-17T16:25:53.223416Z"
        },
        "trusted": true,
        "id": "o8wuKDw1k62R"
      },
      "execution_count": null,
      "outputs": [],
      "id": "o8wuKDw1k62R"
    },
    {
      "cell_type": "code",
      "source": [
        "def evaluate(model, criterion, dataloader) -> float:\n",
        "\n",
        "    model.eval()\n",
        "    perplexity = []\n",
        "\n",
        "    with torch.no_grad():\n",
        "        for batch in dataloader:\n",
        "            logits = model(batch['input_ids']).flatten(start_dim=0, end_dim=1)\n",
        "            loss = criterion(logits, batch['targets'].flatten())\n",
        "            perplexity.append(torch.exp(loss).item())\n",
        "\n",
        "    perplexity = sum(perplexity) / len(perplexity)\n",
        "\n",
        "    return perplexity"
      ],
      "metadata": {
        "papermill": {
          "duration": 0.025016,
          "end_time": "2024-03-14T06:20:15.084535",
          "exception": false,
          "start_time": "2024-03-14T06:20:15.059519",
          "status": "completed"
        },
        "tags": [],
        "execution": {
          "iopub.status.busy": "2024-03-17T16:25:53.226956Z",
          "iopub.execute_input": "2024-03-17T16:25:53.227624Z",
          "iopub.status.idle": "2024-03-17T16:25:53.238611Z",
          "shell.execute_reply.started": "2024-03-17T16:25:53.227584Z",
          "shell.execute_reply": "2024-03-17T16:25:53.237410Z"
        },
        "trusted": true,
        "id": "U3f4G7jdk62S"
      },
      "execution_count": null,
      "outputs": [],
      "id": "U3f4G7jdk62S"
    },
    {
      "cell_type": "code",
      "source": [
        "\n",
        "def train(model, train_data, val_data, optimizer, criterion, epochs, model_name):\n",
        "\n",
        "    losses = []\n",
        "    train_perplexities = []\n",
        "    val_perplexities = []\n",
        "    best_perplexity = 10**9\n",
        "    for epoch in range(epochs):\n",
        "        model = model.to(device)\n",
        "        epoch_losses = []\n",
        "        model.train()\n",
        "        for batch in train_data:\n",
        "\n",
        "            optimizer.zero_grad()\n",
        "            logits = model(batch['input_ids']).flatten(start_dim=0, end_dim=1)\n",
        "            loss = criterion(logits, batch['targets'].flatten())\n",
        "            loss.backward()\n",
        "            optimizer.step()\n",
        "\n",
        "            epoch_losses.append(loss.item())\n",
        "\n",
        "        current_train_loss = sum(epoch_losses) / len(epoch_losses)\n",
        "        current_train_perplexity = evaluate(model, criterion, train_data)\n",
        "        current_val_perplexity = evaluate(model, criterion, val_data)\n",
        "        losses.append(current_train_loss)\n",
        "        train_perplexities.append(current_train_perplexity)\n",
        "        val_perplexities.append(current_val_perplexity)\n",
        "        if current_val_perplexity < best_perplexity:\n",
        "            torch.save(model, f'{model_name}_epoch_{epoch}.pt')\n",
        "            best_perplexity = current_val_perplexity\n",
        "        print(f'Epoch: {epoch}, loss: {current_train_loss}, train perplexity: {current_train_perplexity}, val perplexity: {current_val_perplexity}')\n",
        "        print('Sample generation:', generate_sequence(model, 'В России'))\n",
        "    return losses, train_perplexities, val_perplexities\n",
        "\n",
        "\n",
        ""
      ],
      "metadata": {
        "papermill": {
          "duration": 0.028806,
          "end_time": "2024-03-14T06:20:15.129755",
          "exception": false,
          "start_time": "2024-03-14T06:20:15.100949",
          "status": "completed"
        },
        "tags": [],
        "execution": {
          "iopub.status.busy": "2024-03-17T16:25:53.240157Z",
          "iopub.execute_input": "2024-03-17T16:25:53.240616Z",
          "iopub.status.idle": "2024-03-17T16:25:53.251404Z",
          "shell.execute_reply.started": "2024-03-17T16:25:53.240586Z",
          "shell.execute_reply": "2024-03-17T16:25:53.250302Z"
        },
        "trusted": true,
        "id": "xknmalYYk62S"
      },
      "execution_count": null,
      "outputs": [],
      "id": "xknmalYYk62S"
    },
    {
      "cell_type": "code",
      "source": [
        "model = LSTMClassifier()\n",
        "model = model.to(device)\n",
        "criterion = nn.CrossEntropyLoss(ignore_index=0)\n",
        "optimizer = torch.optim.Adam(model.parameters())"
      ],
      "metadata": {
        "id": "SQDO5ktHk62n"
      },
      "execution_count": null,
      "outputs": [],
      "id": "SQDO5ktHk62n"
    },
    {
      "cell_type": "code",
      "source": [
        "#модель обучалась в несколько итераций совокупно 12 эпох\n",
        "#Ниже сохранены метрики лучшей (предпоследней итерации) обучения.\n",
        "#Для генерации будем использовать модель с перплексией 112,7 на валидационной выборке"
      ],
      "metadata": {
        "id": "qREO9FClk62n"
      },
      "execution_count": null,
      "outputs": [],
      "id": "qREO9FClk62n"
    },
    {
      "cell_type": "code",
      "source": [
        "train(model4, train_data, val_data, optimizer, criterion, epochs=3, model_name='model4')"
      ],
      "metadata": {
        "execution": {
          "iopub.execute_input": "2024-03-14T06:20:22.566718Z",
          "iopub.status.busy": "2024-03-14T06:20:22.566358Z",
          "iopub.status.idle": "2024-03-14T09:24:59.242298Z",
          "shell.execute_reply": "2024-03-14T09:24:59.241250Z"
        },
        "papermill": {
          "duration": 11076.695872,
          "end_time": "2024-03-14T09:24:59.244404",
          "exception": false,
          "start_time": "2024-03-14T06:20:22.548532",
          "status": "completed"
        },
        "tags": [],
        "id": "Yx3Hf4hFk62o",
        "outputId": "6ba77756-d501-43ab-c238-f1a6460e4834"
      },
      "execution_count": null,
      "outputs": [
        {
          "name": "stdout",
          "output_type": "stream",
          "text": "Epoch: 0, loss: 4.651966475332657, train perplexity: 57.660967679175506, val perplexity: 115.52200821853948\n\nSample generation: В России отреагировали против « нормандского формата »\n\nEpoch: 1, loss: 4.440952158472476, train perplexity: 51.74927602596425, val perplexity: 112.73279510286896\n\nSample generation: В России назвали условия возобновления рейсов на курорты\n\nEpoch: 2, loss: 4.389076871832019, train perplexity: 49.006671409793505, val perplexity: 113.29159223385436\n\nSample generation: В России разработали новый препарат лечения коронавируса и гриппа на COVID\n"
        },
        {
          "execution_count": 44,
          "output_type": "execute_result",
          "data": {
            "text/plain": [
              "([4.651966475332657, 4.440952158472476, 4.389076871832019],\n",
              " [57.660967679175506, 51.74927602596425, 49.006671409793505],\n",
              " [115.52200821853948, 112.73279510286896, 113.29159223385436])"
            ]
          },
          "metadata": {}
        }
      ],
      "id": "Yx3Hf4hFk62o"
    },
    {
      "cell_type": "code",
      "source": [
        "model = torch.load('/kaggle/input/model4epoch1/model4_epoch_1.pt')\n",
        "criterion = nn.CrossEntropyLoss(ignore_index=0)\n"
      ],
      "metadata": {
        "execution": {
          "iopub.status.busy": "2024-03-17T16:31:48.164103Z",
          "iopub.execute_input": "2024-03-17T16:31:48.164471Z",
          "iopub.status.idle": "2024-03-17T16:31:48.966746Z",
          "shell.execute_reply.started": "2024-03-17T16:31:48.164443Z",
          "shell.execute_reply": "2024-03-17T16:31:48.965793Z"
        },
        "trusted": true,
        "id": "i1NiWzfok62o"
      },
      "execution_count": null,
      "outputs": [],
      "id": "i1NiWzfok62o"
    },
    {
      "cell_type": "code",
      "source": [
        "#проверим качество модели на тестовой выборке\n",
        "evaluate(model, criterion, test_data)"
      ],
      "metadata": {
        "execution": {
          "iopub.status.busy": "2024-03-17T16:31:50.370866Z",
          "iopub.execute_input": "2024-03-17T16:31:50.371843Z",
          "iopub.status.idle": "2024-03-17T16:35:13.018710Z",
          "shell.execute_reply.started": "2024-03-17T16:31:50.371795Z",
          "shell.execute_reply": "2024-03-17T16:35:13.017696Z"
        },
        "trusted": true,
        "id": "2FrHL5X4k62o",
        "outputId": "2b0c5ac2-4952-4e4c-9cbc-9b37b7d94d21"
      },
      "execution_count": null,
      "outputs": [
        {
          "execution_count": 39,
          "output_type": "execute_result",
          "data": {
            "text/plain": "114.91209289807232"
          },
          "metadata": {}
        }
      ],
      "id": "2FrHL5X4k62o"
    },
    {
      "cell_type": "markdown",
      "source": [
        "## Title Generation"
      ],
      "metadata": {
        "id": "Xn4ZnyUjk62p"
      },
      "id": "Xn4ZnyUjk62p"
    },
    {
      "cell_type": "code",
      "source": [
        "#Во время обучения мы выводили только одну последовательность, посмотрим, как работает генерация в целом"
      ],
      "metadata": {
        "id": "TgEnaaOuk62p"
      },
      "execution_count": null,
      "outputs": [],
      "id": "TgEnaaOuk62p"
    },
    {
      "cell_type": "code",
      "source": [
        "for i in range(10):\n",
        "    print(generate_sequence(model,'Стали известны'))\n"
      ],
      "metadata": {
        "execution": {
          "iopub.status.busy": "2024-03-15T18:26:00.114691Z",
          "iopub.execute_input": "2024-03-15T18:26:00.115137Z",
          "iopub.status.idle": "2024-03-15T18:26:04.687832Z",
          "shell.execute_reply.started": "2024-03-15T18:26:00.115101Z",
          "shell.execute_reply": "2024-03-15T18:26:04.686354Z"
        },
        "trusted": true,
        "id": "gmawtWNJk62q",
        "outputId": "509c0115-fa5d-4602-b2d4-927402debddc"
      },
      "execution_count": null,
      "outputs": [
        {
          "name": "stdout",
          "text": "Стали известны личности погибших при пожаре во Внукском отеле в Абхазии детей с начала года на Урале на 2023 году до 2023 г\nСтали известны условия возвращения в Европу\nСтали известны детали нападения в России в ЕСПЧ на водителя\nСтали известны подробности нападения россиян на инкассатор « Свидетели в доме на »\nСтали известны личности погибших на территории России в Донбассе военных на фоне обстрела украинскими войсками ВСУ\nСтали известны условия существования « АвтоВАЗ - Ареной нефти » после 2020 году\nСтали известны детали задержания бывшего начальника Росры областей Украины в Минске и Петербурге за убийство отца в Минске\nСтали известны подробности задержания подозреваемого во взяточничестве девочки из « банды » на Украине из России на восток России\nСтали известны подробности задержания устроиавших бой в российской колонии\nСтали известны личности убитых в российском офисе\n",
          "output_type": "stream"
        }
      ],
      "id": "gmawtWNJk62q"
    },
    {
      "cell_type": "code",
      "source": [
        "for i in range(10):\n",
        "    print(generate_sequence(model,'Новые'))"
      ],
      "metadata": {
        "execution": {
          "iopub.status.busy": "2024-03-15T18:29:14.676059Z",
          "iopub.execute_input": "2024-03-15T18:29:14.676535Z",
          "iopub.status.idle": "2024-03-15T18:29:17.829661Z",
          "shell.execute_reply.started": "2024-03-15T18:29:14.676494Z",
          "shell.execute_reply": "2024-03-15T18:29:17.828272Z"
        },
        "trusted": true,
        "id": "mWK7AiY0k62q",
        "outputId": "d85000c0-a653-4c4d-ce1f-cfff72a04623"
      },
      "execution_count": null,
      "outputs": [
        {
          "name": "stdout",
          "text": "Новые люди оказались под угрозой\nНовые военные уничтожили « Градник на территории » из - под воды\nНовые военные уничтожили украинский штурмовики на одном из подразделений ВСУ\nНовые российские регионы получат новые учебные корабли на Украину через Керченского пролив\nНовые люди в Москве устроили забастовку на месте преступления и устроили погромов на голове в Петербурге\nНовые люди предложили сделать все российские города с помощью нейросетей для детей\nНовые регионы предложили продлить запрет продажи рыбы\nНовые российские города стали чаще жаловаться с коллегами\nНовые российские компании оказались под угрозой дефолта\nНовые школы оказались под ударом в Казахстане\n",
          "output_type": "stream"
        }
      ],
      "id": "mWK7AiY0k62q"
    },
    {
      "cell_type": "code",
      "source": [
        "#Варианты почти не повторяются,  но многие предложения содержат грамматичекие ошибки, в чуть более длинных предложениях логическая связь заметно ослабевает\n",
        "#Попробуем реализовать beam search\n",
        "class Node:\n",
        "    def __init__(self, sequence, prob = 1.0, idx = None):\n",
        "        self.sequence = sequence\n",
        "        self.prob = prob\n",
        "        self.idx = idx\n",
        "        self.childs = []\n",
        "\n",
        "    def __repr__(self):\n",
        "        return (\n",
        "            f\"Node\\n sequence: {self.sequence.tolist()}, \"\n",
        "            + f\"index: {self.idx}, prob: {self.prob}, \"\n",
        "            + f\"num childs: {len(self.childs)}\"\n",
        "        )\n",
        "\n",
        "\n",
        "\n",
        "def beam_search(\n",
        "    model: torch.nn.Module, parents: list[Node], bins: int = 15, k: int = 8, eos_id: int = 3) -> torch.Tensor:\n",
        "    \"\"\"\n",
        "    Generate sequence via beam search algorithm.\n",
        "\n",
        "    Parameters\n",
        "    ----------\n",
        "    model : torch.nn.Module\n",
        "        Trained pytorch model.\n",
        "    parents : list[Node]\n",
        "        List of parent nodes.\n",
        "    bins : int, default = 8\n",
        "        Maximum number of hypothesis.\n",
        "    k : int, default = 2\n",
        "        Number of searches.\n",
        "    eos_id : int, default = 3\n",
        "        End of sentence (<eos>) token id.\n",
        "\n",
        "    Returns\n",
        "    -------\n",
        "    torch.Tensor of int's (1, N)\n",
        "        Most probable hypothesis.\n",
        "    \"\"\"\n",
        "\n",
        "    model.eval()\n",
        "    model.to('cpu')\n",
        "    childs = []\n",
        "    for parent in parents:\n",
        "        if parent.idx == eos_id:\n",
        "            childs.append(parent)\n",
        "        else:\n",
        "            dist = model.forward(parent.sequence)[:, -1]\n",
        "            probs, ids = torch.topk(torch.softmax(dist, dim=-1), k=k, dim=-1)\n",
        "            probs /= torch.sum(probs)\n",
        "\n",
        "            for prob, idx in zip(probs.flatten(), ids.flatten()):\n",
        "                node = Node(\n",
        "                    sequence=torch.cat((parent.sequence, idx.view(-1, 1)), 1),\n",
        "                    idx=idx,\n",
        "                    prob=parent.prob * prob,\n",
        "                )\n",
        "                # parent.childs.append(node) # uncomment to debug root node\n",
        "                childs.append(node)\n",
        "\n",
        "    if len(childs) > bins:\n",
        "        childs, _ = zip(\n",
        "            *sorted([(node, 1.0 - node.prob) for node in childs], key=lambda x: x[1])[:bins]\n",
        "        )  # keep bins with highest prob\n",
        "\n",
        "    # Terminate if <eos> appear in all sequences\n",
        "    if all([node.idx == eos_id for node in childs]):\n",
        "        priority = random.choice(np.argpartition([node.prob for node in childs], 10))\n",
        "        return childs[priority].sequence\n",
        "\n",
        "    return beam_search(model, childs, bins, k, eos_id)\n",
        "\n"
      ],
      "metadata": {
        "execution": {
          "iopub.status.busy": "2024-03-15T18:18:19.829327Z",
          "iopub.execute_input": "2024-03-15T18:18:19.829803Z",
          "iopub.status.idle": "2024-03-15T18:18:19.847568Z",
          "shell.execute_reply.started": "2024-03-15T18:18:19.829763Z",
          "shell.execute_reply": "2024-03-15T18:18:19.846209Z"
        },
        "trusted": true,
        "id": "lDzzwe01k62q"
      },
      "execution_count": null,
      "outputs": [],
      "id": "lDzzwe01k62q"
    },
    {
      "cell_type": "code",
      "source": [
        "\n",
        "input_ids = tokenizer.encode_plus('В России')['input_ids']\n",
        "input_ids.pop(-1)\n",
        "ids = torch.LongTensor([input_ids]).to('cpu')\n",
        "\n",
        "\n",
        "root = Node(ids)\n",
        "\n",
        "for i in range(10):\n",
        "    with torch.no_grad():\n",
        "        seq = beam_search(model, [root]).flatten()\n",
        "\n",
        "    print(tokenizer.decode(seq,skip_special_tokens=True, clean_up_tokenization_spaces=True))"
      ],
      "metadata": {
        "execution": {
          "iopub.status.busy": "2024-03-15T18:18:24.054543Z",
          "iopub.execute_input": "2024-03-15T18:18:24.055007Z",
          "iopub.status.idle": "2024-03-15T18:18:58.520267Z",
          "shell.execute_reply.started": "2024-03-15T18:18:24.054968Z",
          "shell.execute_reply": "2024-03-15T18:18:58.518887Z"
        },
        "trusted": true,
        "id": "ZnmMOAZlk62r",
        "outputId": "fb48cdda-e744-4242-c9d2-b7398de91c7a"
      },
      "execution_count": null,
      "outputs": [
        {
          "name": "stdout",
          "text": "В России за сутки госпитализировали 21 заболевших COVID - 19\nВ России оценили возможность снижения цен на нефть\nВ России назвали сроки возобновления авиасообщения с Россией\nВ России предложили ввести налог на тунеядство\nВ России отреагировали на заявление Кравчука о « зачистке »\nВ России заявили о готовности к отказу от поездки в Турцию\nВ России заявили о готовности к отказу от поездки в Европу\nВ России отреагировали на атаку ВСУ на Работино\nВ России отреагировали на слова Кравчука о « зачистке »\nВ России заявили о готовности к отказу от поездки в Турцию\n",
          "output_type": "stream"
        }
      ],
      "id": "ZnmMOAZlk62r"
    },
    {
      "cell_type": "code",
      "source": [
        "#предложения стали лаконичнее и корректнее, но есть повторы, при том, что алгоритм и так работает медленнее, чем хотелось бы\n",
        "#видно, что повторяются в основном первые элементы последовательности.\n",
        "#Объединим два генератора, чтобы добавить разнообразия. Пусть topk будет отвечать за голову, что обеспечит нам вариативность,\n",
        "# а beam search за хвост, это не позволит предложению развалиться в конце, как часто бывает с topk"
      ],
      "metadata": {
        "id": "TWa96fNsk62r"
      },
      "execution_count": null,
      "outputs": [],
      "id": "TWa96fNsk62r"
    },
    {
      "cell_type": "code",
      "source": [
        "def generate_title(model, starter, num):\n",
        "    model.eval()\n",
        "    model.to('cpu')\n",
        "    with torch.no_grad():\n",
        "        for i in range(num):\n",
        "            starter_ext = generate_sequence(model, starter, max_seq_len = 4)\n",
        "            input_ids = tokenizer.encode_plus(starter_ext)['input_ids']\n",
        "            input_ids.pop(-1)\n",
        "            ids = torch.LongTensor([input_ids]).to('cpu')\n",
        "\n",
        "            root = Node(ids)\n",
        "            seq = beam_search(model, [root]).flatten()\n",
        "            print(tokenizer.decode(seq,skip_special_tokens=True, clean_up_tokenization_spaces=True))\n",
        ""
      ],
      "metadata": {
        "execution": {
          "iopub.status.busy": "2024-03-15T18:38:16.305042Z",
          "iopub.execute_input": "2024-03-15T18:38:16.305479Z",
          "iopub.status.idle": "2024-03-15T18:38:16.314389Z",
          "shell.execute_reply.started": "2024-03-15T18:38:16.305444Z",
          "shell.execute_reply": "2024-03-15T18:38:16.313128Z"
        },
        "trusted": true,
        "id": "p2LOGdbTk62s"
      },
      "execution_count": null,
      "outputs": [],
      "id": "p2LOGdbTk62s"
    },
    {
      "cell_type": "code",
      "source": [
        "generate_title(model, 'Новые', 10)"
      ],
      "metadata": {
        "execution": {
          "iopub.status.busy": "2024-03-15T18:38:23.755298Z",
          "iopub.execute_input": "2024-03-15T18:38:23.755740Z",
          "iopub.status.idle": "2024-03-15T18:38:44.869597Z",
          "shell.execute_reply.started": "2024-03-15T18:38:23.755702Z",
          "shell.execute_reply": "2024-03-15T18:38:44.868252Z"
        },
        "trusted": true,
        "id": "pdW3P1fFk62s",
        "outputId": "0c762899-477c-4d35-8941-5fb9cf9e4695"
      },
      "execution_count": null,
      "outputs": [
        {
          "name": "stdout",
          "text": "Новые школы оказались под угрозой\nНовые регионы Украины предложили переименовать страну в России\nНовые регионы предложили продлить кредитные каникулы в России\nНовые российские туристы оказались любителями картами\nНовые регионы предложили повысить налоги\nНовые люди устроили массовую драку на борту упавшего в море самолета\nНовые школы научились зарабатывать на коронавирус\nНовые военные учения оказались под угрозой\nНовые военные учения получат « летающий радар »\nНовые регионы в России предложили повысить налоги\n",
          "output_type": "stream"
        }
      ],
      "id": "pdW3P1fFk62s"
    },
    {
      "cell_type": "code",
      "source": [
        "generate_title(model, 'В России', 10)"
      ],
      "metadata": {
        "execution": {
          "iopub.status.busy": "2024-03-15T18:39:14.197681Z",
          "iopub.execute_input": "2024-03-15T18:39:14.198176Z",
          "iopub.status.idle": "2024-03-15T18:39:41.658467Z",
          "shell.execute_reply.started": "2024-03-15T18:39:14.198133Z",
          "shell.execute_reply": "2024-03-15T18:39:41.657188Z"
        },
        "trusted": true,
        "id": "_pfD35vVk62t",
        "outputId": "a944c258-c7d1-4fbb-c4ec-7bde97be5fea"
      },
      "execution_count": null,
      "outputs": [
        {
          "name": "stdout",
          "text": "В России отреагировали на сообщения об отставке главы МИД Украины\nВ России оценили возможность дефицита топлива\nВ России назвали сроки возобновления полетов в Турцию\nВ России отреагировали на заявление Кравчука о « зачистке » в Донбассе\nВ России захотели наказывать за продажу алкоголя\nВ России захотели наказывать за продажу алкоголя из - за коронавируса\nВ России предложили ввести отдельный налог на бездетность\nВ России захотели наказывать за нарушение режима прекращения огня\nВ России захотели упростить продажу алкоголя\nВ России предложили увеличить расходы на оборону\n",
          "output_type": "stream"
        }
      ],
      "id": "_pfD35vVk62t"
    },
    {
      "cell_type": "code",
      "source": [
        "generate_title(model, 'В Москве', 10)"
      ],
      "metadata": {
        "execution": {
          "iopub.status.busy": "2024-03-15T18:43:26.871823Z",
          "iopub.execute_input": "2024-03-15T18:43:26.873136Z",
          "iopub.status.idle": "2024-03-15T18:43:56.951346Z",
          "shell.execute_reply.started": "2024-03-15T18:43:26.873089Z",
          "shell.execute_reply": "2024-03-15T18:43:56.949970Z"
        },
        "trusted": true,
        "id": "uzjYjliTk62t",
        "outputId": "bb362d22-1c47-4e2b-d4af-8eef73f9991f"
      },
      "execution_count": null,
      "outputs": [
        {
          "name": "stdout",
          "text": "В Москве за сутки госпитализировали 23 пациента с COVID - 19\nВ Москве задержали участников оппозиционной акции в поддержку Pussy Riot\nВ Москве за сутки госпитализировали 190 пациентов с коронавирусом\nВ Москве прошел форум по борьбе с безработицей\nВ Москве мужчина расстрелял жену и покончил с собой\nВ Москве прошел форум \" Россия \"\nВ Москве за сутки госпитализировали 53 пациента с COVID - 19\nВ Москве мужчина выстрелил в грудь и попал под следствие\nВ Москве мужчина захватил заложников из магазина\nВ Москве мужчина открыл стрельбу по полицейским\n",
          "output_type": "stream"
        }
      ],
      "id": "uzjYjliTk62t"
    }
  ]
}